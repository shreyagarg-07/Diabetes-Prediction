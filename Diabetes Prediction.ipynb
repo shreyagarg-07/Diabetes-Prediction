{
  "nbformat": 4,
  "nbformat_minor": 0,
  "metadata": {
    "colab": {
      "private_outputs": true,
      "provenance": [],
      "collapsed_sections": [
        "vncDsAP0Gaoa",
        "FJNUwmbgGyua",
        "w6K7xa23Elo4",
        "yQaldy8SH6Dl",
        "mDgbUHAGgjLW",
        "O_i_v8NEhb9l",
        "HhfV-JJviCcP",
        "Y3lxredqlCYt",
        "3RnN4peoiCZX",
        "x71ZqKXriCWQ",
        "7hBIi_osiCS2",
        "JlHwYmJAmNHm",
        "35m5QtbWiB9F",
        "PoPl-ycgm1ru",
        "H0kj-8xxnORC",
        "nA9Y7ga8ng1Z",
        "PBTbrJXOngz2",
        "u3PMJOP6ngxN",
        "dauF4eBmngu3",
        "bKJF3rekwFvQ",
        "MSa1f5Uengrz",
        "GF8Ens_Soomf",
        "0wOQAZs5pc--",
        "K5QZ13OEpz2H",
        "lQ7QKXXCp7Bj",
        "448CDAPjqfQr",
        "KSlN3yHqYklG",
        "t6dVpIINYklI",
        "ijmpgYnKYklI",
        "-JiQyfWJYklI",
        "EM7whBJCYoAo",
        "fge-S5ZAYoAp",
        "85gYPyotYoAp",
        "RoGjAbkUYoAp",
        "4Of9eVA-YrdM",
        "iky9q4vBYrdO",
        "F6T5p64dYrdO",
        "y-Ehk30pYrdP",
        "bamQiAODYuh1",
        "QHF8YVU7Yuh3",
        "GwzvFGzlYuh3",
        "qYpmQ266Yuh3",
        "OH-pJp9IphqM",
        "bbFf2-_FphqN",
        "_ouA3fa0phqN",
        "Seke61FWphqN",
        "PIIx-8_IphqN",
        "t27r6nlMphqO",
        "r2jJGEOYphqO",
        "b0JNsNcRphqO",
        "BZR9WyysphqO",
        "jj7wYXLtphqO",
        "eZrbJ2SmphqO",
        "rFu4xreNphqO",
        "YJ55k-q6phqO",
        "gCFgpxoyphqP",
        "OVtJsKN_phqQ",
        "lssrdh5qphqQ",
        "U2RJ9gkRphqQ",
        "1M8mcRywphqQ",
        "tgIPom80phqQ",
        "JMzcOPDDphqR",
        "x-EpHcCOp1ci",
        "X_VqEhTip1ck",
        "8zGJKyg5p1ck",
        "PVzmfK_Ep1ck",
        "n3dbpmDWp1ck",
        "ylSl6qgtp1ck",
        "ZWILFDl5p1ck",
        "M7G43BXep1ck",
        "Ag9LCva-p1cl",
        "E6MkPsBcp1cl",
        "2cELzS2fp1cl",
        "3MPXvC8up1cl",
        "NC_X3p0fY2L0",
        "UV0SzAkaZNRQ",
        "YPEH6qLeZNRQ",
        "q29F0dvdveiT",
        "EXh0U9oCveiU",
        "22aHeOlLveiV",
        "g-ATYxFrGrvw",
        "Yfr_Vlr8HBkt",
        "8yEUt7NnHlrM",
        "tEA2Xm5dHt1r",
        "I79__PHVH19G",
        "Ou-I18pAyIpj",
        "fF3858GYyt-u",
        "4_0_7-oCpUZd",
        "hwyV_J3ipUZe",
        "3yB-zSqbpUZe",
        "dEUvejAfpUZe",
        "Fd15vwWVpUZf",
        "bn_IUdTipZyH",
        "49K5P_iCpZyH",
        "Nff-vKELpZyI",
        "kLW572S8pZyI",
        "dWbDXHzopZyI",
        "yLjJCtPM0KBk",
        "xiyOF9F70UgQ",
        "7wuGOrhz0itI",
        "id1riN9m0vUs",
        "578E2V7j08f6",
        "89xtkJwZ18nB",
        "67NQN5KX2AMe",
        "Iwf50b-R2tYG",
        "GMQiZwjn3iu7",
        "WVIkgGqN3qsr",
        "XkPnILGE3zoT",
        "Hlsf0x5436Go",
        "mT9DMSJo4nBL",
        "c49ITxTc407N",
        "OeJFEK0N496M",
        "9ExmJH0g5HBk",
        "cJNqERVU536h",
        "k5UmGsbsOxih",
        "T0VqWOYE6DLQ",
        "qBMux9mC6MCf",
        "-oLEiFgy-5Pf",
        "C74aWNz2AliB",
        "2DejudWSA-a0",
        "pEMng2IbBLp7",
        "rAdphbQ9Bhjc",
        "TNVZ9zx19K6k",
        "nqoHp30x9hH9",
        "rMDnDkt2B6du",
        "yiiVWRdJDDil",
        "1UUpS68QDMuG",
        "kexQrXU-DjzY",
        "T5CmagL3EC8N",
        "BhH2vgX9EjGr",
        "qjKvONjwE8ra",
        "P1XJ9OREExlT",
        "VFOzZv6IFROw",
        "TIqpNgepFxVj",
        "VfCC591jGiD4",
        "OB4l2ZhMeS1U",
        "ArJBuiUVfxKd",
        "4qY1EAkEfxKe",
        "PiV4Ypx8fxKe",
        "TfvqoZmBfxKf",
        "dJ2tPlVmpsJ0",
        "JWYfwnehpsJ1",
        "-jK_YjpMpsJ2",
        "HAih1iBOpsJ2",
        "zVGeBEFhpsJ2",
        "bmKjuQ-FpsJ3",
        "Fze-IPXLpx6K",
        "7AN1z2sKpx6M",
        "9PIHJqyupx6M",
        "_-qAgymDpx6N",
        "Z-hykwinpx6N",
        "h_CCil-SKHpo",
        "cBFFvTBNJzUa",
        "HvGl1hHyA_VK",
        "EyNgTHvd2WFk",
        "KH5McJBi2d8v",
        "iW_Lq9qf2h6X",
        "-Kee-DAl2viO",
        "gCX9965dhzqZ",
        "gIfDvo9L0UH2"
      ]
    },
    "kernelspec": {
      "name": "python3",
      "display_name": "Python 3"
    },
    "language_info": {
      "name": "python"
    }
  },
  "cells": [
    {
      "cell_type": "markdown",
      "source": [
        "# **Project Name**    - Diabetes Prediction\n",
        "\n"
      ],
      "metadata": {
        "id": "vncDsAP0Gaoa"
      }
    },
    {
      "cell_type": "markdown",
      "source": [
        "##### **Project Type**    - EDA/Regression/Classification/Unsupervised\n",
        "##### **Contribution**    - Individual/Team\n",
        "##### **Team Member 1 -**2210992262\n",
        "##### **Team Member 2 -**2210992264\n",
        "##### **Team Member 3 -**2210992311\n",
        "##### **Team Member 4 -**2210992341"
      ],
      "metadata": {
        "id": "beRrZCGUAJYm"
      }
    },
    {
      "cell_type": "code",
      "source": [],
      "metadata": {
        "id": "gbt306naBdMD"
      },
      "execution_count": null,
      "outputs": []
    },
    {
      "cell_type": "markdown",
      "source": [
        "# **Project Summary -**"
      ],
      "metadata": {
        "id": "FJNUwmbgGyua"
      }
    },
    {
      "cell_type": "markdown",
      "source": [
        "Write the summary here within 500-600 words."
      ],
      "metadata": {
        "id": "F6v_1wHtG2nS"
      }
    },
    {
      "cell_type": "markdown",
      "source": [
        "# **GitHub Link -**"
      ],
      "metadata": {
        "id": "w6K7xa23Elo4"
      }
    },
    {
      "cell_type": "markdown",
      "source": [
        "Provide your GitHub Link here."
      ],
      "metadata": {
        "id": "h1o69JH3Eqqn"
      }
    },
    {
      "cell_type": "markdown",
      "source": [
        "# **Problem Statement**\n"
      ],
      "metadata": {
        "id": "yQaldy8SH6Dl"
      }
    },
    {
      "cell_type": "markdown",
      "source": [
        "**Write Problem Statement Here.**"
      ],
      "metadata": {
        "id": "DpeJGUA3kjGy"
      }
    },
    {
      "cell_type": "markdown",
      "source": [
        "# **General Guidelines** : -  "
      ],
      "metadata": {
        "id": "mDgbUHAGgjLW"
      }
    },
    {
      "cell_type": "markdown",
      "source": [
        "1.   Well-structured, formatted, and commented code is required.\n",
        "2.   Exception Handling, Production Grade Code & Deployment Ready Code will be a plus. Those students will be awarded some additional credits.\n",
        "     \n",
        "     The additional credits will have advantages over other students during Star Student selection.\n",
        "       \n",
        "             [ Note: - Deployment Ready Code is defined as, the whole .ipynb notebook should be executable in one go\n",
        "                       without a single error logged. ]\n",
        "\n",
        "3.   Each and every logic should have proper comments.\n",
        "4. You may add as many number of charts you want. Make Sure for each and every chart the following format should be answered.\n",
        "        \n",
        "\n",
        "```\n",
        "# Chart visualization code\n",
        "```\n",
        "            \n",
        "\n",
        "*   Why did you pick the specific chart?\n",
        "*   What is/are the insight(s) found from the chart?\n",
        "* Will the gained insights help creating a positive business impact?\n",
        "Are there any insights that lead to negative growth? Justify with specific reason.\n",
        "\n",
        "5. You have to create at least 15 logical & meaningful charts having important insights.\n",
        "\n",
        "\n",
        "[ Hints : - Do the Vizualization in  a structured way while following \"UBM\" Rule.\n",
        "\n",
        "U - Univariate Analysis,\n",
        "\n",
        "B - Bivariate Analysis (Numerical - Categorical, Numerical - Numerical, Categorical - Categorical)\n",
        "\n",
        "M - Multivariate Analysis\n",
        " ]\n",
        "\n",
        "\n",
        "\n",
        "\n",
        "\n",
        "6. You may add more ml algorithms for model creation. Make sure for each and every algorithm, the following format should be answered.\n",
        "\n",
        "\n",
        "*   Explain the ML Model used and it's performance using Evaluation metric Score Chart.\n",
        "\n",
        "\n",
        "*   Cross- Validation & Hyperparameter Tuning\n",
        "\n",
        "*   Have you seen any improvement? Note down the improvement with updates Evaluation metric Score Chart.\n",
        "\n",
        "*   Explain each evaluation metric's indication towards business and the business impact pf the ML model used.\n",
        "\n",
        "\n",
        "\n",
        "\n",
        "\n",
        "\n",
        "\n",
        "\n",
        "\n",
        "\n",
        "\n",
        "\n",
        "\n",
        "\n",
        "\n",
        "\n",
        "\n",
        "\n"
      ],
      "metadata": {
        "id": "ZrxVaUj-hHfC"
      }
    },
    {
      "cell_type": "markdown",
      "source": [
        "# ***Let's Begin !***"
      ],
      "metadata": {
        "id": "O_i_v8NEhb9l"
      }
    },
    {
      "cell_type": "markdown",
      "source": [
        "## ***1. Know Your Data***"
      ],
      "metadata": {
        "id": "HhfV-JJviCcP"
      }
    },
    {
      "cell_type": "markdown",
      "source": [
        "### Import Libraries"
      ],
      "metadata": {
        "id": "Y3lxredqlCYt"
      }
    },
    {
      "cell_type": "code",
      "source": [
        "import pandas as pd\n",
        "import numpy as np\n",
        "import matplotlib.pyplot as plt\n",
        "import seaborn as sns\n",
        "from sklearn.impute import SimpleImputer\n",
        "from sklearn.preprocessing import StandardScaler\n",
        "import warnings\n",
        "warnings.filterwarnings('ignore')"
      ],
      "metadata": {
        "id": "M8Vqi-pPk-HR"
      },
      "execution_count": null,
      "outputs": []
    },
    {
      "cell_type": "markdown",
      "source": [
        "### Dataset Loading"
      ],
      "metadata": {
        "id": "3RnN4peoiCZX"
      }
    },
    {
      "cell_type": "code",
      "source": [
        "df = pd.read_csv('/content/diabetes (2) (1).csv')"
      ],
      "metadata": {
        "id": "4CkvbW_SlZ_R"
      },
      "execution_count": null,
      "outputs": []
    },
    {
      "cell_type": "markdown",
      "source": [
        "### Dataset First View"
      ],
      "metadata": {
        "id": "x71ZqKXriCWQ"
      }
    },
    {
      "cell_type": "code",
      "source": [
        "df.head()"
      ],
      "metadata": {
        "id": "LWNFOSvLl09H"
      },
      "execution_count": null,
      "outputs": []
    },
    {
      "cell_type": "markdown",
      "source": [
        "### Dataset Rows & Columns count"
      ],
      "metadata": {
        "id": "7hBIi_osiCS2"
      }
    },
    {
      "cell_type": "code",
      "source": [
        "df.shape"
      ],
      "metadata": {
        "id": "Kllu7SJgmLij"
      },
      "execution_count": null,
      "outputs": []
    },
    {
      "cell_type": "markdown",
      "source": [
        "### Dataset Information"
      ],
      "metadata": {
        "id": "JlHwYmJAmNHm"
      }
    },
    {
      "cell_type": "code",
      "source": [
        "df.info()"
      ],
      "metadata": {
        "id": "e9hRXRi6meOf"
      },
      "execution_count": null,
      "outputs": []
    },
    {
      "cell_type": "markdown",
      "source": [
        "#### Duplicate Values"
      ],
      "metadata": {
        "id": "35m5QtbWiB9F"
      }
    },
    {
      "cell_type": "code",
      "source": [
        "df.describe().T"
      ],
      "metadata": {
        "id": "1sLdpKYkmox0"
      },
      "execution_count": null,
      "outputs": []
    },
    {
      "cell_type": "markdown",
      "source": [
        "#### Missing Values/Null Values"
      ],
      "metadata": {
        "id": "PoPl-ycgm1ru"
      }
    },
    {
      "cell_type": "code",
      "source": [
        "df.isnull().sum()"
      ],
      "metadata": {
        "id": "GgHWkxvamxVg"
      },
      "execution_count": null,
      "outputs": []
    },
    {
      "cell_type": "code",
      "source": [
        "sns.countplot(x = 'Outcome',data = df)"
      ],
      "metadata": {
        "id": "3q5wnI3om9sJ"
      },
      "execution_count": null,
      "outputs": []
    },
    {
      "cell_type": "markdown",
      "source": [
        "### What did you know about your dataset?"
      ],
      "metadata": {
        "id": "H0kj-8xxnORC"
      }
    },
    {
      "cell_type": "markdown",
      "source": [
        "Observations:\n",
        "1. There are a total of 768 records and 9 features in the dataset.\n",
        "2. Each feature can be either of integer or float dataype.\n",
        "3. Some features like Glucose, Blood pressure , Insulin, BMI have zero values which represent missing data.\n",
        "4. There are zero NaN values in the dataset.\n",
        "5. In the outcome column, 1 represents diabetes positive and 0 represents diabetes negative."
      ],
      "metadata": {
        "id": "gfoNAAC-nUe_"
      }
    },
    {
      "cell_type": "markdown",
      "source": [
        "## ***2. Understanding Your Variables***"
      ],
      "metadata": {
        "id": "nA9Y7ga8ng1Z"
      }
    },
    {
      "cell_type": "code",
      "source": [
        "df.columns"
      ],
      "metadata": {
        "id": "j7xfkqrt5Ag5"
      },
      "execution_count": null,
      "outputs": []
    },
    {
      "cell_type": "code",
      "source": [
        "df.describe()"
      ],
      "metadata": {
        "id": "DnOaZdaE5Q5t"
      },
      "execution_count": null,
      "outputs": []
    },
    {
      "cell_type": "markdown",
      "source": [
        "### Variables Description"
      ],
      "metadata": {
        "id": "PBTbrJXOngz2"
      }
    },
    {
      "cell_type": "markdown",
      "source": [
        "the features in a dataset for diabetes prediction:\n",
        "\n",
        "Pregnancies: Number of times pregnant.\n",
        "\n",
        "Glucose: Plasma glucose concentration after 2 hours in an oral glucose tolerance test.\n",
        "\n",
        "Blood Pressure: Diastolic blood pressure (mm Hg).\n",
        "\n",
        "Skin Thickness: Triceps skin fold thickness (mm).\n",
        "\n",
        "Insulin: 2-Hour serum insulin (mu U/ml).\n",
        "BMI (Body Mass Index): Body mass index (weight in kg/(height in m)^2).\n",
        "\n",
        "Diabetes Pedigree Function: Diabetes pedigree function, which provides a measure of diabetes hereditary risk based on family history.\n",
        "\n",
        "Age: Age of the patient (years).\n",
        "Outcome: Binary indicator of whether the patient has diabetes or not (1 for diabetes, 0 for no diabetes)."
      ],
      "metadata": {
        "id": "aJV4KIxSnxay"
      }
    },
    {
      "cell_type": "markdown",
      "source": [
        "### Check Unique Values for each variable."
      ],
      "metadata": {
        "id": "u3PMJOP6ngxN"
      }
    },
    {
      "cell_type": "code",
      "source": [
        "df['Pregnancies'].unique()\n",
        "df['Glucose'].unique()\n",
        "df['BloodPressure'].unique()\n",
        "df['SkinThickness'].unique()\n",
        "df['Insulin'].unique()\n",
        "df['BMI'].unique()\n",
        "df['DiabetesPedigreeFunction'].unique()\n",
        "df['Age'].unique()\n",
        "df['Outcome'].unique()"
      ],
      "metadata": {
        "id": "zms12Yq5n-jE"
      },
      "execution_count": null,
      "outputs": []
    },
    {
      "cell_type": "markdown",
      "source": [
        "## 3. ***Data Wrangling***"
      ],
      "metadata": {
        "id": "dauF4eBmngu3"
      }
    },
    {
      "cell_type": "markdown",
      "source": [
        "### Data Wrangling Code"
      ],
      "metadata": {
        "id": "bKJF3rekwFvQ"
      }
    },
    {
      "cell_type": "code",
      "source": [
        "\n",
        "from sklearn.impute import SimpleImputer\n",
        "from scipy import stats\n",
        "\n",
        "# Assuming df is your DataFrame\n",
        "\n",
        "# Replace missing values (e.g., represented as 0) with NaN\n",
        "df.replace(0, np.nan, inplace=True)\n",
        "\n",
        "# Check if there are any missing values\n",
        "if df.isnull().values.any():\n",
        "    # Impute missing values with mean, median, or mode\n",
        "    imputer = SimpleImputer(strategy='mean')\n",
        "\n",
        "    # Check if 'DiabetesPedigreeFunction' column exists before imputing\n",
        "    if 'DiabetesPedigreeFunction' in df.columns:\n",
        "        df['DiabetesPedigreeFunction'] = imputer.fit_transform(df[['DiabetesPedigreeFunction']])\n",
        "else:\n",
        "    print(\"No missing values found in the DataFrame.\")\n",
        "\n",
        "# Detect and handle outliers using z-score or IQR method\n",
        "z_scores = np.abs(stats.zscore(df.select_dtypes(include=np.number)))\n",
        "df = df[(z_scores < 3).all(axis=1)]\n",
        "\n",
        "# Remove duplicate rows\n",
        "df.drop_duplicates(inplace=True)\n",
        "\n",
        "# Convert data types if needed\n",
        "df['Age'] = df['Age'].astype(int)\n",
        "\n",
        "# Create new feature 'BMI_category' based on BMI values\n",
        "df['BMI_category'] = pd.cut(df['BMI'], bins=[0, 18.5, 24.9, 29.9, np.inf], labels=['Underweight', 'Normal', 'Overweight', 'Obese'])\n",
        "\n",
        "# Drop columns that are not needed\n",
        "# For example, if 'Patient_ID' is not relevant for analysis\n",
        "# df.drop('Patient_ID', axis=1, inplace=True)"
      ],
      "metadata": {
        "id": "wk-9a2fpoLcV"
      },
      "execution_count": null,
      "outputs": []
    },
    {
      "cell_type": "markdown",
      "source": [
        "### What all manipulations have you done and insights you found?"
      ],
      "metadata": {
        "id": "MSa1f5Uengrz"
      }
    },
    {
      "cell_type": "markdown",
      "source": [
        "\n",
        "Handling Missing Values:\n",
        "The code replaces missing values (represented as 0) with NaN using the replace(0, np.nan, inplace=True) method. This ensures missing values are correctly identified for subsequent processing and analysis.\n",
        "\n",
        "Imputing Missing Values with Mean:\n",
        "The SimpleImputer(strategy='mean') is used to impute missing values in the 'DiabetesPedigreeFunction' column with the mean value of the column. Imputing missing values with the mean helps to retain data integrity while filling in gaps in the dataset.\n",
        "\n",
        "Outlier Detection and Removal:\n",
        "Outliers are detected and handled using the z-score method. The code calculates z-scores for numerical columns and removes rows where z-scores exceed a certain threshold (typically 3 standard deviations from the mean). This helps to remove data points that are significantly different from the majority of the data, improving the robustness of subsequent analysis.\n",
        "\n",
        "Removing Duplicate Rows:\n",
        "The drop_duplicates(inplace=True) method is applied to remove duplicate rows from the dataset. Removing duplicates ensures that each observation is unique, preventing biases in analysis and ensuring data integrity.Answer Here."
      ],
      "metadata": {
        "id": "LbyXE7I1olp8"
      }
    },
    {
      "cell_type": "markdown",
      "source": [
        "## ***4. Data Vizualization, Storytelling & Experimenting with charts : Understand the relationships between variables***"
      ],
      "metadata": {
        "id": "GF8Ens_Soomf"
      }
    },
    {
      "cell_type": "markdown",
      "source": [
        "#### Chart - 1"
      ],
      "metadata": {
        "id": "0wOQAZs5pc--"
      }
    },
    {
      "cell_type": "code",
      "source": [
        "# Chart 1: Histogram for Glucose\n",
        "plt.hist(df['Glucose'], bins=20, color='skyblue')\n",
        "plt.title('Distribution of Glucose')\n",
        "plt.xlabel('Glucose')\n",
        "plt.ylabel('Frequency')\n",
        "plt.show()\n"
      ],
      "metadata": {
        "id": "7v_ESjsspbW7"
      },
      "execution_count": null,
      "outputs": []
    },
    {
      "cell_type": "markdown",
      "source": [
        "##### 1. Why did you pick the specific chart?"
      ],
      "metadata": {
        "id": "K5QZ13OEpz2H"
      }
    },
    {
      "cell_type": "markdown",
      "source": [
        "we have chose a histogram to visualize the distribution of glucose levels in the dataset. A histogram is suitable for displaying the frequency distribution of a continuous variable, making it ideal for understanding the distribution of glucose levels among the population"
      ],
      "metadata": {
        "id": "XESiWehPqBRc"
      }
    },
    {
      "cell_type": "markdown",
      "source": [
        "##### 2. What is/are the insight(s) found from the chart?"
      ],
      "metadata": {
        "id": "lQ7QKXXCp7Bj"
      }
    },
    {
      "cell_type": "markdown",
      "source": [
        "The histogram illustrates the frequency distribution of glucose levels across the dataset. By examining the shape of the histogram, we can identify common glucose level ranges and any potential outliers. Additionally, the histogram provides insights into the overall distribution pattern, such as whether it is symmetric, skewed, or multi-modal."
      ],
      "metadata": {
        "id": "C_j1G7yiqdRP"
      }
    },
    {
      "cell_type": "markdown",
      "source": [
        "##### 3. Will the gained insights help creating a positive business impact?\n",
        "Are there any insights that lead to negative growth? Justify with specific reason."
      ],
      "metadata": {
        "id": "448CDAPjqfQr"
      }
    },
    {
      "cell_type": "markdown",
      "source": [
        "Yes, understanding the distribution of glucose levels in the dataset can provide valuable insights for various stakeholders in the healthcare industry. For example, healthcare providers can use this information to identify patients with abnormal glucose levels who may require further evaluation or intervention. Similarly, pharmaceutical companies and researchers can use these insights to develop targeted interventions or therapies for managing diabetes and related conditions, ultimately leading to improved patient outcomes and potentially reducing healthcare costs."
      ],
      "metadata": {
        "id": "3cspy4FjqxJW"
      }
    },
    {
      "cell_type": "markdown",
      "source": [
        "#### Chart - 2"
      ],
      "metadata": {
        "id": "KSlN3yHqYklG"
      }
    },
    {
      "cell_type": "code",
      "source": [
        "plt.scatter(df['Glucose'], df['Insulin'], alpha=0.5)\n",
        "plt.title('Scatter Plot of Glucose vs. Insulin')\n",
        "plt.xlabel('Glucose')\n",
        "plt.ylabel('Insulin')\n",
        "plt.show()"
      ],
      "metadata": {
        "id": "R4YgtaqtYklH"
      },
      "execution_count": null,
      "outputs": []
    },
    {
      "cell_type": "markdown",
      "source": [
        "##### 1. Why did you pick the specific chart?"
      ],
      "metadata": {
        "id": "t6dVpIINYklI"
      }
    },
    {
      "cell_type": "markdown",
      "source": [
        "we have selected a scatter plot to visualize the relationship between glucose and insulin levels in the dataset. A scatter plot is suitable for displaying the relationship between two continuous variables, allowing us to identify patterns, correlations, or trends between them."
      ],
      "metadata": {
        "id": "5aaW0BYyYklI"
      }
    },
    {
      "cell_type": "markdown",
      "source": [
        "##### 2. What is/are the insight(s) found from the chart?"
      ],
      "metadata": {
        "id": "ijmpgYnKYklI"
      }
    },
    {
      "cell_type": "markdown",
      "source": [
        "The scatter plot shows the distribution of data points representing glucose and insulin levels for each observation in the dataset. By examining the scatter plot, we can identify any potential correlations or patterns between glucose and insulin levels. For example, we may observe a positive correlation, indicating that higher glucose levels are associated with higher insulin levels, or vice versa."
      ],
      "metadata": {
        "id": "PSx9atu2YklI"
      }
    },
    {
      "cell_type": "markdown",
      "source": [
        "##### 3. Will the gained insights help creating a positive business impact?\n",
        "Are there any insights that lead to negative growth? Justify with specific reason."
      ],
      "metadata": {
        "id": "-JiQyfWJYklI"
      }
    },
    {
      "cell_type": "markdown",
      "source": [
        "Yes, understanding the relationship between glucose and insulin levels is crucial for managing diabetes and related metabolic conditions. The insights gained from the scatter plot can inform healthcare professionals about the dynamics between these two important biomarkers and help tailor treatment plans or interventions for patients with diabetes. Additionally, researchers and pharmaceutical companies can use these insights to develop targeted therapies or interventions aimed at improving insulin sensitivity or regulating glucose levels, ultimately leading to better health outcomes for individuals with diabetes"
      ],
      "metadata": {
        "id": "BcBbebzrYklV"
      }
    },
    {
      "cell_type": "markdown",
      "source": [
        "#### Chart - 3"
      ],
      "metadata": {
        "id": "EM7whBJCYoAo"
      }
    },
    {
      "cell_type": "code",
      "source": [
        "df['BMI'].value_counts().plot(kind='bar', color='salmon')\n",
        "plt.title('BMI Category Distribution')\n",
        "plt.xlabel('BMI Category')\n",
        "plt.ylabel('Count')\n",
        "plt.xticks(rotation=45)\n",
        "plt.show()"
      ],
      "metadata": {
        "id": "t6GMdE67YoAp"
      },
      "execution_count": null,
      "outputs": []
    },
    {
      "cell_type": "markdown",
      "source": [
        "##### 1. Why did you pick the specific chart?"
      ],
      "metadata": {
        "id": "fge-S5ZAYoAp"
      }
    },
    {
      "cell_type": "markdown",
      "source": [
        "We have chose a bar chart because it effectively represents the distribution of BMI categories within the dataset. Bar charts are suitable for visualizing categorical data, making them ideal for displaying the count of each BMI category."
      ],
      "metadata": {
        "id": "5dBItgRVYoAp"
      }
    },
    {
      "cell_type": "markdown",
      "source": [
        "##### 2. What is/are the insight(s) found from the chart?"
      ],
      "metadata": {
        "id": "85gYPyotYoAp"
      }
    },
    {
      "cell_type": "markdown",
      "source": [
        "From the chart, we can observe the distribution of individuals across different BMI categories. The bar heights represent the frequency or count of individuals falling into each category. We can identify which BMI category is the most prevalent and whether there are any significant differences in frequencies between categories."
      ],
      "metadata": {
        "id": "4jstXR6OYoAp"
      }
    },
    {
      "cell_type": "markdown",
      "source": [
        "##### 3. Will the gained insights help creating a positive business impact?\n",
        "Are there any insights that lead to negative growth? Justify with specific reason."
      ],
      "metadata": {
        "id": "RoGjAbkUYoAp"
      }
    },
    {
      "cell_type": "markdown",
      "source": [
        "Yes, the insights gained from this chart can have a positive impact on business decisions, particularly in industries related to healthcare, wellness, and fitness. Understanding the distribution of BMI categories can inform strategies for targeted interventions and health promotion initiatives. For example, businesses in the healthcare sector can use this information to develop personalized health plans for individuals, create targeted marketing campaigns for specific BMI categories, or design wellness programs tailored to address the needs of different BMI groups. By addressing health concerns and promoting healthier lifestyle choices, businesses can contribute to improved health outcomes for individuals and potentially reduce healthcare costs in the long run."
      ],
      "metadata": {
        "id": "zfJ8IqMcYoAp"
      }
    },
    {
      "cell_type": "markdown",
      "source": [
        "#### Chart - 4"
      ],
      "metadata": {
        "id": "4Of9eVA-YrdM"
      }
    },
    {
      "cell_type": "code",
      "source": [
        "plt.boxplot(df['Age'])\n",
        "plt.title('Boxplot of Age')\n",
        "plt.ylabel('Age')\n",
        "plt.show()"
      ],
      "metadata": {
        "id": "irlUoxc8YrdO"
      },
      "execution_count": null,
      "outputs": []
    },
    {
      "cell_type": "markdown",
      "source": [
        "##### 1. Why did you pick the specific chart?"
      ],
      "metadata": {
        "id": "iky9q4vBYrdO"
      }
    },
    {
      "cell_type": "markdown",
      "source": [
        "we have chose a boxplot because it effectively summarizes the distribution of age values within the dataset and provides insights into the central tendency, variability, and presence of outliers. Boxplots are particularly useful for visualizing the spread and skewness of numerical data, making them suitable for identifying any potential anomalies or patterns in the distribution of age values."
      ],
      "metadata": {
        "id": "aJRCwT6DYrdO"
      }
    },
    {
      "cell_type": "markdown",
      "source": [
        "##### 2. What is/are the insight(s) found from the chart?"
      ],
      "metadata": {
        "id": "F6T5p64dYrdO"
      }
    },
    {
      "cell_type": "markdown",
      "source": [
        "From the boxplot, we can gain insights into several aspects of the age distribution:\n",
        "The central tendency: The median line (middle line of the box) indicates the median age of the dataset, providing a measure of the central tendency.\n",
        "Variability: The length of the box (interquartile range) represents the spread or variability of age values. A longer box indicates greater variability.\n",
        "Presence of outliers: The whiskers extending from the box provide information about the range of age values. Any data points beyond the whiskers may be considered outliers, potentially indicating unusual or extreme ages in the dataset."
      ],
      "metadata": {
        "id": "Xx8WAJvtYrdO"
      }
    },
    {
      "cell_type": "markdown",
      "source": [
        "##### 3. Will the gained insights help creating a positive business impact?\n",
        "Are there any insights that lead to negative growth? Justify with specific reason."
      ],
      "metadata": {
        "id": "y-Ehk30pYrdP"
      }
    },
    {
      "cell_type": "markdown",
      "source": [
        "Yes, the insights gained from this boxplot can have several positive implications for businesses, especially those in industries related to healthcare, education, and marketing. Understanding the distribution and characteristics of age values can inform decision-making processes and strategic initiatives:"
      ],
      "metadata": {
        "id": "jLNxxz7MYrdP"
      }
    },
    {
      "cell_type": "markdown",
      "source": [
        "#### Chart - 5"
      ],
      "metadata": {
        "id": "bamQiAODYuh1"
      }
    },
    {
      "cell_type": "code",
      "source": [
        "plt.pie(df['Outcome'].value_counts(), labels=['Non-Diabetic', 'Diabetic'], autopct='%1.1f%%', colors=['lightgreen', 'lightcoral'])\n",
        "plt.title('Distribution of Outcome')\n",
        "plt.show()"
      ],
      "metadata": {
        "id": "TIJwrbroYuh3"
      },
      "execution_count": null,
      "outputs": []
    },
    {
      "cell_type": "markdown",
      "source": [
        "##### 1. Why did you pick the specific chart?"
      ],
      "metadata": {
        "id": "QHF8YVU7Yuh3"
      }
    },
    {
      "cell_type": "markdown",
      "source": [
        "we have chose a pie chart because it effectively illustrates the distribution of outcomes (non-diabetic vs. diabetic) within the dataset. Pie charts are useful for displaying proportions or percentages of a whole, making them suitable for visualizing categorical data with a few distinct categories"
      ],
      "metadata": {
        "id": "dcxuIMRPYuh3"
      }
    },
    {
      "cell_type": "markdown",
      "source": [
        "##### 2. What is/are the insight(s) found from the chart?"
      ],
      "metadata": {
        "id": "GwzvFGzlYuh3"
      }
    },
    {
      "cell_type": "markdown",
      "source": [
        "From the pie chart, we can gain insights into the relative proportions of non-diabetic and diabetic individuals within the dataset. The size of each slice represents the proportion of individuals belonging to each outcome category. We can easily compare the prevalence of diabetes within the dataset and determine the distribution of outcomes."
      ],
      "metadata": {
        "id": "uyqkiB8YYuh3"
      }
    },
    {
      "cell_type": "markdown",
      "source": [
        "##### 3. Will the gained insights help creating a positive business impact?\n",
        "Are there any insights that lead to negative growth? Justify with specific reason."
      ],
      "metadata": {
        "id": "qYpmQ266Yuh3"
      }
    },
    {
      "cell_type": "markdown",
      "source": [
        "Yes, the insights gained from this pie chart can have positive implications for businesses, especially those in the healthcare and wellness industries:\n",
        "\n",
        "Healthcare providers can use this information to understand the prevalence of diabetes within a population and allocate resources accordingly for screening, diagnosis, and treatment of diabetic individuals.\n",
        "\n",
        "Wellness organizations and fitness centers can develop targeted programs and interventions to support individuals with diabetes and promote healthy lifestyle choices to prevent the onset of diabetes.\n",
        "Pharmaceutical companies and medical device\n",
        "\n",
        "manufacturers can tailor their products and services to address the specific needs of diabetic individuals, thereby enhancing patient care and improving health outcomes."
      ],
      "metadata": {
        "id": "_WtzZ_hCYuh4"
      }
    },
    {
      "cell_type": "markdown",
      "source": [
        "#### Chart - 6"
      ],
      "metadata": {
        "id": "OH-pJp9IphqM"
      }
    },
    {
      "cell_type": "code",
      "source": [
        "plt.figure(figsize=(8, 6))\n",
        "plt.scatter(df['BloodPressure'], df['BMI'], alpha=0.5, color='green')\n",
        "plt.title('Scatter Plot of Blood Pressure vs. BMI')\n",
        "plt.xlabel('Blood Pressure')\n",
        "plt.ylabel('BMI')\n",
        "plt.show()\n"
      ],
      "metadata": {
        "id": "kuRf4wtuphqN"
      },
      "execution_count": null,
      "outputs": []
    },
    {
      "cell_type": "markdown",
      "source": [
        "##### 1. Why did you pick the specific chart?"
      ],
      "metadata": {
        "id": "bbFf2-_FphqN"
      }
    },
    {
      "cell_type": "markdown",
      "source": [
        "we have chose a scatter plot because it effectively visualizes the relationship between two continuous variables: blood pressure and BMI. Scatter plots are ideal for identifying patterns, trends, and correlations between variables, making them suitable for exploring relationships between quantitative data."
      ],
      "metadata": {
        "id": "loh7H2nzphqN"
      }
    },
    {
      "cell_type": "markdown",
      "source": [
        "##### 2. What is/are the insight(s) found from the chart?"
      ],
      "metadata": {
        "id": "_ouA3fa0phqN"
      }
    },
    {
      "cell_type": "markdown",
      "source": [
        "From the scatter plot, we can gain insights into the relationship between blood pressure and BMI:\n",
        "Correlation: We can assess whether there is a linear or nonlinear relationship between blood pressure and BMI. A positive correlation indicates that higher blood pressure is associated with higher BMI, while a negative correlation suggests the opposite.\n",
        "Pattern: We can observe any discernible patterns or clusters in the data points, which may provide insights into potential subgroups or associations between blood pressure and BMI.\n",
        "Outliers: We can identify any outlier data points that deviate significantly from the general trend, which may warrant further investigation."
      ],
      "metadata": {
        "id": "VECbqPI7phqN"
      }
    },
    {
      "cell_type": "markdown",
      "source": [
        "##### 3. Will the gained insights help creating a positive business impact?\n",
        "Are there any insights that lead to negative growth? Justify with specific reason."
      ],
      "metadata": {
        "id": "Seke61FWphqN"
      }
    },
    {
      "cell_type": "markdown",
      "source": [
        "Yes, the insights gained from this scatter plot can have positive implications for businesses, particularly those in the healthcare, wellness, and fitness industries:\n",
        "\n",
        "Healthcare providers can use this information to assess the relationship between blood pressure and BMI in patients, identify individuals at risk of hypertension or obesity-related complications, and develop personalized treatment plans.\n",
        "\n",
        "Wellness organizations and fitness centers can leverage this knowledge to design targeted interventions and lifestyle programs aimed at improving blood pressure management and promoting healthy BMI levels among their clients.\n",
        "\n",
        "Public health agencies and policymakers can use the insights to inform population-level interventions and initiatives aimed at reducing the prevalence of hypertension and obesity, thereby improving overall public health outcomes."
      ],
      "metadata": {
        "id": "DW4_bGpfphqN"
      }
    },
    {
      "cell_type": "markdown",
      "source": [
        "#### Chart - 7"
      ],
      "metadata": {
        "id": "PIIx-8_IphqN"
      }
    },
    {
      "cell_type": "code",
      "source": [
        "sns.barplot(x='Outcome', y='BloodPressure', data=df, ci='sd', palette='muted')\n",
        "plt.title('Bar Chart of Blood Pressure by Outcome')\n",
        "plt.show()"
      ],
      "metadata": {
        "id": "lqAIGUfyphqO"
      },
      "execution_count": null,
      "outputs": []
    },
    {
      "cell_type": "markdown",
      "source": [
        "##### 1. Why did you pick the specific chart?"
      ],
      "metadata": {
        "id": "t27r6nlMphqO"
      }
    },
    {
      "cell_type": "markdown",
      "source": [
        "we have chose a bar chart because it effectively compares the average blood pressure values between different outcome categories (diabetic vs. non-diabetic). Bar charts are suitable for visualizing comparisons between categories or groups, making them ideal for comparing the mean or average values of a numerical variable across different groups."
      ],
      "metadata": {
        "id": "iv6ro40sphqO"
      }
    },
    {
      "cell_type": "markdown",
      "source": [
        "##### 2. What is/are the insight(s) found from the chart?"
      ],
      "metadata": {
        "id": "r2jJGEOYphqO"
      }
    },
    {
      "cell_type": "markdown",
      "source": [
        "From the bar chart, we can gain insights into the average blood pressure values for diabetic and non-diabetic individuals:\n",
        "\n",
        "Comparison: We can easily compare the average blood pressure values between diabetic and non-diabetic groups. The height of each bar represents the mean blood pressure for the respective outcome category.\n",
        "\n",
        "Variability: The error bars (confidence intervals) provide information about the variability or dispersion of blood pressure values within each group. We can assess whether there are significant differences in blood pressure variability between diabetic and non-diabetic individuals."
      ],
      "metadata": {
        "id": "Po6ZPi4hphqO"
      }
    },
    {
      "cell_type": "markdown",
      "source": [
        "##### 3. Will the gained insights help creating a positive business impact?\n",
        "Are there any insights that lead to negative growth? Justify with specific reason."
      ],
      "metadata": {
        "id": "b0JNsNcRphqO"
      }
    },
    {
      "cell_type": "markdown",
      "source": [
        "Yes, the insights gained from this bar chart can have positive implications for businesses, especially those in the healthcare and wellness sectors:\n",
        "\n",
        "Healthcare providers can use this information to understand the relationship between blood pressure and diabetes, identify potential risk factors or associations, and tailor treatment strategies accordingly.\n",
        "\n",
        "Wellness organizations and health coaches can leverage these insights to educate individuals about the importance of blood pressure management, especially for those with diabetes. They can offer targeted interventions and lifestyle modifications to help individuals maintain healthy blood pressure levels and reduce the risk of diabetes-related complications."
      ],
      "metadata": {
        "id": "xvSq8iUTphqO"
      }
    },
    {
      "cell_type": "markdown",
      "source": [
        "#### Chart - 8"
      ],
      "metadata": {
        "id": "BZR9WyysphqO"
      }
    },
    {
      "cell_type": "code",
      "source": [
        "sns.kdeplot(df['Age'], shade=True, color='orange')\n",
        "plt.title('Kernel Density Estimation (KDE) of Age')\n",
        "plt.xlabel('Age')\n",
        "plt.ylabel('Density')\n",
        "plt.show()"
      ],
      "metadata": {
        "id": "TdPTWpAVphqO"
      },
      "execution_count": null,
      "outputs": []
    },
    {
      "cell_type": "markdown",
      "source": [
        "##### 1. Why did you pick the specific chart?"
      ],
      "metadata": {
        "id": "jj7wYXLtphqO"
      }
    },
    {
      "cell_type": "markdown",
      "source": [
        "we have chose a Kernel Density Estimation (KDE) plot because it provides a smooth estimate of the probability density function of a continuous variable—in this case, age. KDE plots are useful for visualizing the distribution and shape of data, particularly when the underlying distribution is not known or when visualizing the distribution of a single variable."
      ],
      "metadata": {
        "id": "Ob8u6rCTphqO"
      }
    },
    {
      "cell_type": "markdown",
      "source": [
        "##### 2. What is/are the insight(s) found from the chart?"
      ],
      "metadata": {
        "id": "eZrbJ2SmphqO"
      }
    },
    {
      "cell_type": "markdown",
      "source": [
        "From the KDE plot, we can gain insights into the distribution of age values:\n",
        "\n",
        "Shape of distribution: We can observe the shape of the density curve, which provides information about the central tendency, variability, and skewness of age values. For example, a symmetric bell-shaped curve suggests a normal distribution, while asymmetry may indicate skewness.\n",
        "\n",
        "Peaks and troughs: Peaks in the density curve represent areas of higher density, indicating where age values are more concentrated. Troughs represent areas of lower density.\n",
        "\n",
        "Spread: The width of the density curve reflects the spread or variability of age values. A wider curve indicates greater variability, while a narrower curve suggests less variability."
      ],
      "metadata": {
        "id": "mZtgC_hjphqO"
      }
    },
    {
      "cell_type": "markdown",
      "source": [
        "##### 3. Will the gained insights help creating a positive business impact?\n",
        "Are there any insights that lead to negative growth? Justify with specific reason."
      ],
      "metadata": {
        "id": "rFu4xreNphqO"
      }
    },
    {
      "cell_type": "markdown",
      "source": [
        "Yes, the insights gained from this KDE plot can have positive implications for businesses, particularly those in the healthcare, marketing, and demographic analysis sectors:\n",
        "\n",
        "Healthcare providers can use this information to understand the age distribution of their patient population, identify age-related health trends or risk factors, and tailor healthcare services and interventions accordingly.\n",
        "\n",
        "Marketing professionals can leverage these insights to develop targeted marketing strategies and campaigns tailored to different age demographics. Understanding the age distribution of their target audience can help businesses create more effective marketing messages and reach their desired market segments.\n",
        "\n",
        "Demographic analysts and policymakers can use the insights to inform strategic decision-making processes, such as resource allocation, infrastructure planning, and policy development, based on the age distribution of the population. This can contribute to more efficient and equitable allocation of resources and services, leading to positive societal outcomes."
      ],
      "metadata": {
        "id": "ey_0qi68phqO"
      }
    },
    {
      "cell_type": "markdown",
      "source": [
        "#### Chart - 9"
      ],
      "metadata": {
        "id": "YJ55k-q6phqO"
      }
    },
    {
      "cell_type": "code",
      "source": [
        "plt.figure(figsize=(8, 6))\n",
        "plt.scatter(df['Age'], df['Insulin'], alpha=0.5, color='orange')\n",
        "plt.title('Scatter Plot of Age vs. Insulin')\n",
        "plt.xlabel('Age')\n",
        "plt.ylabel('Insulin')\n",
        "plt.show()"
      ],
      "metadata": {
        "id": "B2aS4O1ophqO"
      },
      "execution_count": null,
      "outputs": []
    },
    {
      "cell_type": "markdown",
      "source": [
        "##### 1. Why did you pick the specific chart?"
      ],
      "metadata": {
        "id": "gCFgpxoyphqP"
      }
    },
    {
      "cell_type": "markdown",
      "source": [
        "we have chose a scatter plot because it effectively visualizes the relationship between two continuous variables: age and insulin levels. Scatter plots are well-suited for identifying patterns, trends, and correlations between variables, making them ideal for exploring relationships between quantitative data.\n"
      ],
      "metadata": {
        "id": "TVxDimi2phqP"
      }
    },
    {
      "cell_type": "markdown",
      "source": [
        "##### 2. What is/are the insight(s) found from the chart?"
      ],
      "metadata": {
        "id": "OVtJsKN_phqQ"
      }
    },
    {
      "cell_type": "markdown",
      "source": [
        "From the scatter plot, we can gain insights into the relationship between age and insulin levels:\n",
        "\n",
        "Correlation: We can assess whether there is a linear or nonlinear relationship between age and insulin levels. A positive correlation suggests that insulin levels may increase or decrease with age, while a lack of correlation indicates no significant relationship.\n",
        "\n",
        "Pattern: We can observe any discernible patterns or clusters in the data points, which may provide insights into potential associations or subgroups based on age and insulin levels.\n",
        "\n",
        "Outliers: We can identify any outlier data points that deviate significantly from the general trend, which may warrant further investigation into potential anomalies or unique characteristics."
      ],
      "metadata": {
        "id": "ngGi97qjphqQ"
      }
    },
    {
      "cell_type": "markdown",
      "source": [
        "##### 3. Will the gained insights help creating a positive business impact?\n",
        "Are there any insights that lead to negative growth? Justify with specific reason."
      ],
      "metadata": {
        "id": "lssrdh5qphqQ"
      }
    },
    {
      "cell_type": "markdown",
      "source": [
        "Yes, the insights gained from this scatter plot can have positive implications for businesses, particularly those in the healthcare, wellness, and medical research fields:\n",
        "\n",
        "Healthcare providers can use this information to better understand the relationship between age and insulin levels in patients, identify individuals at risk of insulin-related conditions or complications, and develop personalized treatment plans.\n",
        "\n",
        "Wellness organizations and fitness centers can leverage these insights to design targeted interventions and lifestyle programs aimed at promoting healthy insulin levels across different age groups.\n",
        "\n",
        "Medical researchers and pharmaceutical companies can use the insights to inform studies and clinical trials aimed at investigating age-related changes in insulin metabolism, developing new treatments for insulin-related disorders, and improving patient care and outcomes."
      ],
      "metadata": {
        "id": "tBpY5ekJphqQ"
      }
    },
    {
      "cell_type": "markdown",
      "source": [
        "#### Chart - 10"
      ],
      "metadata": {
        "id": "U2RJ9gkRphqQ"
      }
    },
    {
      "cell_type": "code",
      "source": [
        "plt.figure(figsize=(8, 6))\n",
        "plt.scatter(df['Glucose'], df['BloodPressure'], alpha=0.5, color='purple')\n",
        "plt.title('Scatter Plot of Glucose vs. Blood Pressure')\n",
        "plt.xlabel('Glucose')\n",
        "plt.ylabel('Blood Pressure')\n",
        "plt.show()"
      ],
      "metadata": {
        "id": "GM7a4YP4phqQ"
      },
      "execution_count": null,
      "outputs": []
    },
    {
      "cell_type": "markdown",
      "source": [
        "##### 1. Why did you pick the specific chart?"
      ],
      "metadata": {
        "id": "1M8mcRywphqQ"
      }
    },
    {
      "cell_type": "markdown",
      "source": [
        "I chose a scatter plot because it effectively visualizes the relationship between two continuous variables: glucose and blood pressure. Scatter plots are well-suited for identifying patterns, trends, and correlations between variables, making them ideal for exploring relationships between quantitative data."
      ],
      "metadata": {
        "id": "8agQvks0phqQ"
      }
    },
    {
      "cell_type": "markdown",
      "source": [
        "##### 2. What is/are the insight(s) found from the chart?"
      ],
      "metadata": {
        "id": "tgIPom80phqQ"
      }
    },
    {
      "cell_type": "markdown",
      "source": [
        "From the scatter plot, we can gain insights into the relationship between glucose and blood pressure:\n",
        "\n",
        "Correlation: We can assess whether there is a linear or nonlinear relationship between glucose and blood pressure. A positive correlation suggests that blood pressure may increase or decrease with glucose levels, while a lack of correlation indicates no significant relationship.\n",
        "\n",
        "Pattern: We can observe any discernible patterns or clusters in the data points, which may provide insights into potential associations or subgroups based on glucose and blood pressure levels.\n",
        "\n",
        "Outliers: We can identify any outlier data points that deviate significantly from the general trend, which may warrant further investigation into potential anomalies or unique characteristics."
      ],
      "metadata": {
        "id": "Qp13pnNzphqQ"
      }
    },
    {
      "cell_type": "markdown",
      "source": [
        "##### 3. Will the gained insights help creating a positive business impact?\n",
        "Are there any insights that lead to negative growth? Justify with specific reason."
      ],
      "metadata": {
        "id": "JMzcOPDDphqR"
      }
    },
    {
      "cell_type": "markdown",
      "source": [
        "Yes, the insights gained from this scatter plot can have positive implications for businesses, particularly those in the healthcare, wellness, and medical research fields:\n",
        "\n",
        "Healthcare providers can use this information to better understand the relationship between glucose and blood pressure in patients, identify individuals at risk of blood pressure-related conditions or complications associated with glucose levels, and develop personalized treatment plans.\n",
        "\n",
        "Wellness organizations and fitness centers can leverage these insights to design targeted interventions and lifestyle programs aimed at promoting healthy glucose and blood pressure levels among their clients.\n",
        "\n",
        "Medical researchers and pharmaceutical companies can use the insights to inform studies and clinical trials aimed at investigating the link between glucose metabolism and blood pressure regulation, developing new treatments for conditions such as hypertension and diabetes, and improving patient care and outcomes."
      ],
      "metadata": {
        "id": "R4Ka1PC2phqR"
      }
    },
    {
      "cell_type": "markdown",
      "source": [
        "#### Chart - 11"
      ],
      "metadata": {
        "id": "x-EpHcCOp1ci"
      }
    },
    {
      "cell_type": "code",
      "source": [
        "plt.figure(figsize=(8, 6))\n",
        "plt.bar(df.index, df['SkinThickness'], color='blue')\n",
        "plt.title('Skin Thickness Distribution')\n",
        "plt.xlabel('Index')\n",
        "plt.ylabel('Skin Thickness')\n",
        "plt.show()\n"
      ],
      "metadata": {
        "id": "mAQTIvtqp1cj"
      },
      "execution_count": null,
      "outputs": []
    },
    {
      "cell_type": "markdown",
      "source": [
        "##### 1. Why did you pick the specific chart?"
      ],
      "metadata": {
        "id": "X_VqEhTip1ck"
      }
    },
    {
      "cell_type": "markdown",
      "source": [
        "we have chose a bar chart because it effectively displays the distribution of skin thickness values across different indices. Bar charts are suitable for visualizing the frequency or count of a variable within distinct categories or groups, making them ideal for displaying the distribution of numerical data."
      ],
      "metadata": {
        "id": "-vsMzt_np1ck"
      }
    },
    {
      "cell_type": "markdown",
      "source": [
        "##### 2. What is/are the insight(s) found from the chart?"
      ],
      "metadata": {
        "id": "8zGJKyg5p1ck"
      }
    },
    {
      "cell_type": "markdown",
      "source": [
        "From the bar chart, we can gain insights into the distribution of skin thickness values:\n",
        "\n",
        "Variation: We can observe the range of skin thickness values and any variability or dispersion within the dataset. Differences in bar heights indicate variations in skin thickness across different indices or individuals.\n",
        "\n",
        "Central tendency: The height of the bars provides information about the central tendency of skin thickness values within the dataset. Higher bars indicate areas where skin thickness values are more concentrated, while lower bars suggest areas of lower concentration.\n",
        "\n",
        "Outliers: We can identify any outlier values that deviate significantly from the main distribution, which may warrant further investigation into potential anomalies or unique characteristics."
      ],
      "metadata": {
        "id": "ZYdMsrqVp1ck"
      }
    },
    {
      "cell_type": "markdown",
      "source": [
        "##### 3. Will the gained insights help creating a positive business impact?\n",
        "Are there any insights that lead to negative growth? Justify with specific reason."
      ],
      "metadata": {
        "id": "PVzmfK_Ep1ck"
      }
    },
    {
      "cell_type": "markdown",
      "source": [
        "Yes, the insights gained from this bar chart can have positive implications for businesses, particularly those in the healthcare, dermatology, and cosmetic industries:\n",
        "\n",
        "Healthcare providers can use this information to assess the distribution of skin thickness values in patients, identify individuals with abnormal skin thickness, and potentially diagnose underlying skin conditions or disorders.\n",
        "\n",
        "Dermatologists and cosmetic practitioners can leverage these insights to tailor treatment plans and procedures based on individual skin characteristics, ensuring optimal outcomes and patient satisfaction.\n",
        "\n",
        "Skincare product manufacturers and cosmetic companies can use the insights to develop targeted skincare formulations and products designed to address specific skin thickness concerns, meet consumer needs, and enhance product efficacy and performance."
      ],
      "metadata": {
        "id": "druuKYZpp1ck"
      }
    },
    {
      "cell_type": "markdown",
      "source": [
        "#### Chart - 12"
      ],
      "metadata": {
        "id": "n3dbpmDWp1ck"
      }
    },
    {
      "cell_type": "code",
      "source": [
        "plt.figure(figsize=(8, 6))\n",
        "plt.hist(df['Insulin'], bins=20, color='red')\n",
        "plt.title('Distribution of Insulin')\n",
        "plt.xlabel('Insulin')\n",
        "plt.ylabel('Frequency')\n",
        "plt.show()"
      ],
      "metadata": {
        "id": "bwevp1tKp1ck"
      },
      "execution_count": null,
      "outputs": []
    },
    {
      "cell_type": "markdown",
      "source": [
        "##### 1. Why did you pick the specific chart?"
      ],
      "metadata": {
        "id": "ylSl6qgtp1ck"
      }
    },
    {
      "cell_type": "markdown",
      "source": [
        "we have chose a histogram because it effectively visualizes the distribution of insulin levels within the dataset. Histograms are well-suited for displaying the frequency or count of values within different bins or intervals of a numerical variable, making them ideal for exploring the distribution of continuous data."
      ],
      "metadata": {
        "id": "m2xqNkiQp1ck"
      }
    },
    {
      "cell_type": "markdown",
      "source": [
        "##### 2. What is/are the insight(s) found from the chart?"
      ],
      "metadata": {
        "id": "ZWILFDl5p1ck"
      }
    },
    {
      "cell_type": "markdown",
      "source": [
        "From the histogram, we can gain insights into the distribution of insulin levels:\n",
        "\n",
        "Shape of distribution: We can observe the shape of the histogram, which provides information about the central tendency, variability, and skewness of insulin level values. For example, a symmetric bell-shaped curve suggests a normal distribution, while asymmetry may indicate skewness.\n",
        "\n",
        "Peaks and troughs: Peaks in the histogram represent areas of higher frequency, indicating where insulin level values are more concentrated. Troughs represent areas of lower frequency.\n",
        "\n",
        "Spread: The width of the histogram reflects the spread or variability of insulin level values. A wider histogram indicates greater variability, while a narrower histogram suggests less variability."
      ],
      "metadata": {
        "id": "x-lUsV2mp1ck"
      }
    },
    {
      "cell_type": "markdown",
      "source": [
        "##### 3. Will the gained insights help creating a positive business impact?\n",
        "Are there any insights that lead to negative growth? Justify with specific reason."
      ],
      "metadata": {
        "id": "M7G43BXep1ck"
      }
    },
    {
      "cell_type": "markdown",
      "source": [
        "Yes, the insights gained from this histogram can have positive implications for businesses, particularly those in the healthcare, pharmaceutical, and medical research fields:\n",
        "\n",
        "Healthcare providers can use this information to understand the distribution of insulin levels in patients, identify individuals with abnormal insulin levels or insulin-related conditions, and develop personalized treatment plans.\n",
        "\n",
        "Pharmaceutical companies and researchers can leverage these insights to inform the development of new insulin-based therapies, diagnostics, and interventions aimed at managing insulin-related disorders such as diabetes.\n",
        "\n",
        "Public health agencies and policymakers can use the insights to monitor trends in insulin levels within populations, identify at-risk groups, and implement targeted interventions and prevention strategies to improve overall health outcomes."
      ],
      "metadata": {
        "id": "5wwDJXsLp1cl"
      }
    },
    {
      "cell_type": "markdown",
      "source": [
        "#### Chart - 13"
      ],
      "metadata": {
        "id": "Ag9LCva-p1cl"
      }
    },
    {
      "cell_type": "code",
      "source": [
        "plt.figure(figsize=(8, 6))\n",
        "plt.hist(df['BloodPressure'], bins=20, color='brown')\n",
        "plt.title('Distribution of Blood Pressure')\n",
        "plt.xlabel('Blood Pressure')\n",
        "plt.ylabel('Frequency')\n",
        "plt.show()"
      ],
      "metadata": {
        "id": "EUfxeq9-p1cl"
      },
      "execution_count": null,
      "outputs": []
    },
    {
      "cell_type": "markdown",
      "source": [
        "##### 1. Why did you pick the specific chart?"
      ],
      "metadata": {
        "id": "E6MkPsBcp1cl"
      }
    },
    {
      "cell_type": "markdown",
      "source": [
        "we have chose a histogram because it effectively visualizes the distribution of blood pressure values within the dataset. Histograms are well-suited for displaying the frequency or count of values within different bins or intervals of a numerical variable, making them ideal for exploring the distribution of continuous data."
      ],
      "metadata": {
        "id": "V22bRsFWp1cl"
      }
    },
    {
      "cell_type": "markdown",
      "source": [
        "##### 2. What is/are the insight(s) found from the chart?"
      ],
      "metadata": {
        "id": "2cELzS2fp1cl"
      }
    },
    {
      "cell_type": "markdown",
      "source": [
        "From the histogram, we can gain insights into the distribution of blood pressure values:\n",
        "\n",
        "Shape of distribution: We can observe the shape of the histogram, which provides information about the central tendency, variability, and skewness of blood pressure values. For example, a symmetric bell-shaped curve suggests a normal distribution, while asymmetry may indicate skewness.\n",
        "\n",
        "Peaks and troughs: Peaks in the histogram represent areas of higher frequency, indicating where blood pressure values are more concentrated. Troughs represent areas of lower frequency.\n",
        "\n",
        "Spread: The width of the histogram reflects the spread or variability of blood pressure values. A wider histogram indicates greater variability, while a narrower histogram suggests less variability."
      ],
      "metadata": {
        "id": "ozQPc2_Ip1cl"
      }
    },
    {
      "cell_type": "markdown",
      "source": [
        "##### 3. Will the gained insights help creating a positive business impact?\n",
        "Are there any insights that lead to negative growth? Justify with specific reason."
      ],
      "metadata": {
        "id": "3MPXvC8up1cl"
      }
    },
    {
      "cell_type": "markdown",
      "source": [
        "Yes, the insights gained from this histogram can have positive implications for businesses, particularly those in the healthcare, medical device, and pharmaceutical industries:\n",
        "\n",
        "Healthcare providers can use this information to assess the distribution of blood pressure values in patients, identify individuals with abnormal blood pressure levels or hypertension, and develop personalized treatment plans.\n",
        "\n",
        "Medical device manufacturers can leverage these insights to design and develop innovative blood pressure monitoring devices and technologies tailored to specific patient needs and healthcare settings.\n",
        "\n",
        "Pharmaceutical companies and researchers can use the insights to inform the development of new antihypertensive medications, diagnostic tools, and interventions aimed at managing high blood pressure and improving cardiovascular health outcomes."
      ],
      "metadata": {
        "id": "GL8l1tdLp1cl"
      }
    },
    {
      "cell_type": "markdown",
      "source": [
        "#### Chart - 14 - Correlation Heatmap"
      ],
      "metadata": {
        "id": "NC_X3p0fY2L0"
      }
    },
    {
      "cell_type": "code",
      "source": [
        "plt.figure(figsize=(10, 8))\n",
        "sns.heatmap(df.corr(), annot=True, cmap='coolwarm', fmt='.2f')\n",
        "plt.title('Correlation Heatmap')\n",
        "plt.show()"
      ],
      "metadata": {
        "id": "xyC9zolEZNRQ"
      },
      "execution_count": null,
      "outputs": []
    },
    {
      "cell_type": "markdown",
      "source": [
        "##### 1. Why did you pick the specific chart?"
      ],
      "metadata": {
        "id": "UV0SzAkaZNRQ"
      }
    },
    {
      "cell_type": "markdown",
      "source": [
        "we have chose a heatmap because it effectively visualizes the correlation between different variables in the dataset. Heatmaps use color gradients to represent the strength and direction of correlations, making it easy to identify relationships between variables. Additionally, annotations provide precise correlation values, enhancing the interpretability of the chart."
      ],
      "metadata": {
        "id": "DVPuT8LYZNRQ"
      }
    },
    {
      "cell_type": "markdown",
      "source": [
        "##### 2. What is/are the insight(s) found from the chart?"
      ],
      "metadata": {
        "id": "YPEH6qLeZNRQ"
      }
    },
    {
      "cell_type": "markdown",
      "source": [
        "From the correlation heatmap, we can gain insights into the relationships between different variables:\n",
        "\n",
        "Strength of correlations: The color intensity of each cell indicates the strength of correlation between two variables. Strong positive correlations are represented by darker shades, while strong negative correlations are represented by lighter shades.\n",
        "\n",
        "Direction of correlations: The sign (+ or -) of each correlation coefficient indicates the direction of the relationship between variables. Positive correlations imply that as one variable increases, the other variable also tends to increase, while negative correlations imply an inverse relationship.\n",
        "Correlation patterns: We can identify clusters of variables with high or low correlations, revealing potential patterns or associations within the dataset."
      ],
      "metadata": {
        "id": "bfSqtnDqZNRR"
      }
    },
    {
      "cell_type": "markdown",
      "source": [
        "#### Chart - 15 - Pair Plot"
      ],
      "metadata": {
        "id": "q29F0dvdveiT"
      }
    },
    {
      "cell_type": "code",
      "source": [
        "sns.pairplot(df[['Glucose', 'Insulin', 'BMI', 'Age', 'Outcome']], hue='Outcome', diag_kind='kde')\n",
        "plt.title('Pairplot of Selected Features')\n",
        "plt.show()"
      ],
      "metadata": {
        "id": "o58-TEIhveiU"
      },
      "execution_count": null,
      "outputs": []
    },
    {
      "cell_type": "markdown",
      "source": [
        "##### 1. Why did you pick the specific chart?"
      ],
      "metadata": {
        "id": "EXh0U9oCveiU"
      }
    },
    {
      "cell_type": "markdown",
      "source": [
        "we have chose a pairplot because it provides a comprehensive visualization of pairwise relationships between selected features in the dataset. Pairplots are particularly useful for exploring correlations, distributions, and potential patterns across multiple variables simultaneously. Additionally, incorporating hue='Outcome' allows for the visualization of how the outcome variable relates to the selected features, making it easier to identify potential associations or differences between outcome groups."
      ],
      "metadata": {
        "id": "eMmPjTByveiU"
      }
    },
    {
      "cell_type": "markdown",
      "source": [
        "##### 2. What is/are the insight(s) found from the chart?"
      ],
      "metadata": {
        "id": "22aHeOlLveiV"
      }
    },
    {
      "cell_type": "markdown",
      "source": [
        "From the pairplot, we can gain insights into the relationships between selected features and the outcome variable:\n",
        "\n",
        "Pairwise relationships: We can observe scatter plots along the diagonal, representing the relationship between each feature and itself (i.e., the feature's distribution). Off-diagonal scatter plots illustrate pairwise relationships between different features, helping to identify potential correlations or patterns.\n",
        "\n",
        "Distributions: Kernel density estimation (kde) plots on the diagonal provide insights into the distribution of each feature for different outcome groups. Differences in distribution shapes or peaks may indicate potential associations between features and outcome groups.\n",
        "\n",
        "Class separability: By incorporating hue='Outcome', the pairplot allows us to visualize how the selected features vary between different outcome groups. Clustering or separation of data points based on outcome groups may suggest predictive potential or class separability of the selected features.\n"
      ],
      "metadata": {
        "id": "uPQ8RGwHveiV"
      }
    },
    {
      "cell_type": "markdown",
      "source": [
        "## ***5. Hypothesis Testing***"
      ],
      "metadata": {
        "id": "g-ATYxFrGrvw"
      }
    },
    {
      "cell_type": "markdown",
      "source": [
        "### Based on your chart experiments, define three hypothetical statements from the dataset. In the next three questions, perform hypothesis testing to obtain final conclusion about the statements through your code and statistical testing."
      ],
      "metadata": {
        "id": "Yfr_Vlr8HBkt"
      }
    },
    {
      "cell_type": "markdown",
      "source": [
        "Answer Here."
      ],
      "metadata": {
        "id": "-7MS06SUHkB-"
      }
    },
    {
      "cell_type": "markdown",
      "source": [
        "### Hypothetical Statement - 1"
      ],
      "metadata": {
        "id": "8yEUt7NnHlrM"
      }
    },
    {
      "cell_type": "markdown",
      "source": [
        "#### 1. State Your research hypothesis as a null hypothesis and alternate hypothesis."
      ],
      "metadata": {
        "id": "tEA2Xm5dHt1r"
      }
    },
    {
      "cell_type": "markdown",
      "source": [
        "\n",
        "Research Hypothesis:\n",
        "\n",
        "Null Hypothesis (H0): There is no association between the number of pregnancies (Pregnancies) and the diabetes outcome (Outcome).\n",
        "Alternate Hypothesis (H1): There is an association between the number of pregnancies (Pregnancies) and the diabetes outcome (Outcome).Answer Here."
      ],
      "metadata": {
        "id": "HI9ZP0laH0D-"
      }
    },
    {
      "cell_type": "markdown",
      "source": [
        "#### 2. Perform an appropriate statistical test."
      ],
      "metadata": {
        "id": "I79__PHVH19G"
      }
    },
    {
      "cell_type": "code",
      "source": [
        "from scipy.stats import chi2_contingency\n",
        "\n",
        "# Assuming df_main is your DataFrame containing the dataset\n",
        "\n",
        "# Create a contingency table between two categorical variables\n",
        "contingency_table = pd.crosstab(df_main['Pregnancies'], df_main['Outcome'])\n",
        "\n",
        "# Perform chi-square test\n",
        "chi2, p_value, dof, expected = chi2_contingency(contingency_table)\n",
        "\n",
        "print(f\"P-value: {p_value}\")"
      ],
      "metadata": {
        "id": "oZrfquKtyian"
      },
      "execution_count": null,
      "outputs": []
    },
    {
      "cell_type": "markdown",
      "source": [
        "##### Which statistical test have you done to obtain P-Value?"
      ],
      "metadata": {
        "id": "Ou-I18pAyIpj"
      }
    },
    {
      "cell_type": "markdown",
      "source": [
        "Chi-square Test for Independence."
      ],
      "metadata": {
        "id": "s2U0kk00ygSB"
      }
    },
    {
      "cell_type": "markdown",
      "source": [
        "##### Why did you choose the specific statistical test?"
      ],
      "metadata": {
        "id": "fF3858GYyt-u"
      }
    },
    {
      "cell_type": "markdown",
      "source": [
        "I chose the chi-square test for independence because it is suitable for analyzing the association between two categorical variables (Pregnancies and Outcome). Since Pregnancies represents the number of pregnancies (a discrete variable), and Outcome represents the diabetes outcome (a binary categorical variable), the chi-square test is appropriate to determine if there is a significant association between these variables. Additionally, the chi-square test helps to assess whether any observed association is statistically significant or occurred by chance."
      ],
      "metadata": {
        "id": "HO4K0gP5y3B4"
      }
    },
    {
      "cell_type": "markdown",
      "source": [
        "### Hypothetical Statement - 2"
      ],
      "metadata": {
        "id": "4_0_7-oCpUZd"
      }
    },
    {
      "cell_type": "markdown",
      "source": [
        "#### 1. State Your research hypothesis as a null hypothesis and alternate hypothesis."
      ],
      "metadata": {
        "id": "hwyV_J3ipUZe"
      }
    },
    {
      "cell_type": "markdown",
      "source": [
        "Null Hypothesis (H0): There is no difference in the mean glucose levels (Glucose) between diabetic and non-diabetic individuals (Outcome).\n",
        "Alternate Hypothesis (H1): There is a difference in the mean glucose levels (Glucose) between diabetic and non-diabetic individuals (Outcome)."
      ],
      "metadata": {
        "id": "FnpLGJ-4pUZe"
      }
    },
    {
      "cell_type": "markdown",
      "source": [
        "#### 2. Perform an appropriate statistical test."
      ],
      "metadata": {
        "id": "3yB-zSqbpUZe"
      }
    },
    {
      "cell_type": "code",
      "source": [
        "from scipy.stats import ttest_ind\n",
        "\n",
        "# Assuming df_main is your DataFrame containing the dataset\n",
        "\n",
        "# Split the dataset into diabetic and non-diabetic groups\n",
        "diabetic_group = df_main[df_main['Outcome'] == 1]['Glucose']\n",
        "non_diabetic_group = df_main[df_main['Outcome'] == 0]['Glucose']\n",
        "\n",
        "# Perform independent t-test\n",
        "t_statistic, p_value = ttest_ind(diabetic_group, non_diabetic_group)\n",
        "\n",
        "print(f\"P-value: {p_value}\")"
      ],
      "metadata": {
        "id": "sWxdNTXNpUZe"
      },
      "execution_count": null,
      "outputs": []
    },
    {
      "cell_type": "markdown",
      "source": [
        "##### Which statistical test have you done to obtain P-Value?"
      ],
      "metadata": {
        "id": "dEUvejAfpUZe"
      }
    },
    {
      "cell_type": "markdown",
      "source": [
        "Independent t-test (Two-sample t-test).Answer Here."
      ],
      "metadata": {
        "id": "oLDrPz7HpUZf"
      }
    },
    {
      "cell_type": "markdown",
      "source": [
        "##### Why did you choose the specific statistical test?"
      ],
      "metadata": {
        "id": "Fd15vwWVpUZf"
      }
    },
    {
      "cell_type": "markdown",
      "source": [
        "I chose the independent t-test because it is suitable for comparing the means of a continuous variable (Glucose) between two independent groups (Outcome). In this case, the two groups are diabetic (Outcome = 1) and non-diabetic (Outcome = 0) individuals. The t-test helps determine if the difference in mean glucose levels between these groups is statistically significant or occurred by chance. Additionally, the t-test assumes that the data are normally distributed and the variances are equal between the groups, which are reasonable assumptions for glucose levels in diabetic and non-diabetic populations.Answer Here."
      ],
      "metadata": {
        "id": "4xOGYyiBpUZf"
      }
    },
    {
      "cell_type": "markdown",
      "source": [
        "### Hypothetical Statement - 3"
      ],
      "metadata": {
        "id": "bn_IUdTipZyH"
      }
    },
    {
      "cell_type": "markdown",
      "source": [
        "#### 1. State Your research hypothesis as a null hypothesis and alternate hypothesis."
      ],
      "metadata": {
        "id": "49K5P_iCpZyH"
      }
    },
    {
      "cell_type": "markdown",
      "source": [
        "Null Hypothesis (H0): There is no correlation between age and BMI.\n",
        "Alternate Hypothesis (H1): There is a correlation between age and BMI.Answer Here."
      ],
      "metadata": {
        "id": "7gWI5rT9pZyH"
      }
    },
    {
      "cell_type": "markdown",
      "source": [
        "#### 2. Perform an appropriate statistical test."
      ],
      "metadata": {
        "id": "Nff-vKELpZyI"
      }
    },
    {
      "cell_type": "code",
      "source": [
        "from scipy.stats import spearmanr\n",
        "\n",
        "# Assuming df_main is your DataFrame containing the dataset\n",
        "\n",
        "# Calculate Spearman rank correlation coefficient and p-value\n",
        "corr, p_value = spearmanr(df_main['Age'], df_main['BMI'])\n",
        "\n",
        "print(f\"P-value: {p_value}\")"
      ],
      "metadata": {
        "id": "s6AnJQjtpZyI"
      },
      "execution_count": null,
      "outputs": []
    },
    {
      "cell_type": "markdown",
      "source": [
        "##### Which statistical test have you done to obtain P-Value?"
      ],
      "metadata": {
        "id": "kLW572S8pZyI"
      }
    },
    {
      "cell_type": "markdown",
      "source": [
        "Spearman rank correlation coefficient.Answer Here."
      ],
      "metadata": {
        "id": "ytWJ8v15pZyI"
      }
    },
    {
      "cell_type": "markdown",
      "source": [
        "##### Why did you choose the specific statistical test?"
      ],
      "metadata": {
        "id": "dWbDXHzopZyI"
      }
    },
    {
      "cell_type": "markdown",
      "source": [
        "I chose the Spearman rank correlation coefficient test because it is suitable for measuring the strength and direction of a monotonic relationship between two continuous variables when the assumptions of the Pearson correlation coefficient test are not met (e.g., non-linear relationship or non-normality). Age and BMI are continuous variables, and the Spearman rank correlation coefficient test does not assume a linear relationship between the variables, making it appropriate for this analysis.Answer Here."
      ],
      "metadata": {
        "id": "M99G98V6pZyI"
      }
    },
    {
      "cell_type": "markdown",
      "source": [
        "## ***6. Feature Engineering & Data Pre-processing***"
      ],
      "metadata": {
        "id": "yLjJCtPM0KBk"
      }
    },
    {
      "cell_type": "markdown",
      "source": [
        "### 1. Handling Missing Values"
      ],
      "metadata": {
        "id": "xiyOF9F70UgQ"
      }
    },
    {
      "cell_type": "code",
      "source": [
        "df.fillna(df.mean(), inplace=True)"
      ],
      "metadata": {
        "id": "iRsAHk1K0fpS"
      },
      "execution_count": null,
      "outputs": []
    },
    {
      "cell_type": "markdown",
      "source": [
        "#### What all missing value imputation techniques have you used and why did you use those techniques?"
      ],
      "metadata": {
        "id": "7wuGOrhz0itI"
      }
    },
    {
      "cell_type": "markdown",
      "source": [
        "We have used Mean Imputation. Mean imputation replaces missing values with the mean of the non-missing values in the column. It is a simple and commonly used method for handling missing data, suitable for variables with a relatively normal distribution."
      ],
      "metadata": {
        "id": "1ixusLtI0pqI"
      }
    },
    {
      "cell_type": "markdown",
      "source": [
        "### 2. Handling Outliers"
      ],
      "metadata": {
        "id": "id1riN9m0vUs"
      }
    },
    {
      "cell_type": "code",
      "source": [
        "mean = df.mean()\n",
        "std_dev = df.std()\n",
        "\n",
        "# Define a threshold for outlier detection (e.g., 3 times the standard deviation)\n",
        "threshold = 3\n",
        "\n",
        "# Calculate Z-scores for each data point\n",
        "z_scores = (df - mean) / std_dev\n",
        "\n",
        "# Identify outliers\n",
        "outliers = (z_scores > threshold) | (z_scores < -threshold)\n",
        "\n",
        "# Remove outliers\n",
        "cleaned_df = df[~outliers.any(axis=1)]\n",
        "\n",
        "# Now 'cleaned_df' contains the DataFrame with outliers removed"
      ],
      "metadata": {
        "id": "M6w2CzZf04JK"
      },
      "execution_count": null,
      "outputs": []
    },
    {
      "cell_type": "markdown",
      "source": [
        "##### What all outlier treatment techniques have you used and why did you use those techniques?"
      ],
      "metadata": {
        "id": "578E2V7j08f6"
      }
    },
    {
      "cell_type": "markdown",
      "source": [
        "We've used Z-score based outlier detection and removal, which identifies and removes data points that are a certain number of standard deviations away from the mean (e.g., 3 times the standard deviation). This technique is effective for normally distributed data and helps mitigate the impact of extreme values on statistical analyses.Answer Here."
      ],
      "metadata": {
        "id": "uGZz5OrT1HH-"
      }
    },
    {
      "cell_type": "markdown",
      "source": [
        "### 3. Categorical Encoding"
      ],
      "metadata": {
        "id": "89xtkJwZ18nB"
      }
    },
    {
      "cell_type": "code",
      "source": [
        "# Encode your categorical columns"
      ],
      "metadata": {
        "id": "21JmIYMG2hEo"
      },
      "execution_count": null,
      "outputs": []
    },
    {
      "cell_type": "markdown",
      "source": [
        "#### What all categorical encoding techniques have you used & why did you use those techniques?"
      ],
      "metadata": {
        "id": "67NQN5KX2AMe"
      }
    },
    {
      "cell_type": "markdown",
      "source": [
        "Answer Here."
      ],
      "metadata": {
        "id": "UDaue5h32n_G"
      }
    },
    {
      "cell_type": "markdown",
      "source": [
        "### 4. Textual Data Preprocessing\n",
        "(It's mandatory for textual dataset i.e., NLP, Sentiment Analysis, Text Clustering etc.)"
      ],
      "metadata": {
        "id": "Iwf50b-R2tYG"
      }
    },
    {
      "cell_type": "markdown",
      "source": [
        "#### 1. Expand Contraction"
      ],
      "metadata": {
        "id": "GMQiZwjn3iu7"
      }
    },
    {
      "cell_type": "code",
      "source": [
        "# Expand Contraction"
      ],
      "metadata": {
        "id": "PTouz10C3oNN"
      },
      "execution_count": null,
      "outputs": []
    },
    {
      "cell_type": "markdown",
      "source": [
        "#### 2. Lower Casing"
      ],
      "metadata": {
        "id": "WVIkgGqN3qsr"
      }
    },
    {
      "cell_type": "code",
      "source": [
        "# Lower Casing"
      ],
      "metadata": {
        "id": "88JnJ1jN3w7j"
      },
      "execution_count": null,
      "outputs": []
    },
    {
      "cell_type": "markdown",
      "source": [
        "#### 3. Removing Punctuations"
      ],
      "metadata": {
        "id": "XkPnILGE3zoT"
      }
    },
    {
      "cell_type": "code",
      "source": [
        "# Remove Punctuations"
      ],
      "metadata": {
        "id": "vqbBqNaA33c0"
      },
      "execution_count": null,
      "outputs": []
    },
    {
      "cell_type": "markdown",
      "source": [
        "#### 4. Removing URLs & Removing words and digits contain digits."
      ],
      "metadata": {
        "id": "Hlsf0x5436Go"
      }
    },
    {
      "cell_type": "code",
      "source": [
        "# Remove URLs & Remove words and digits contain digits"
      ],
      "metadata": {
        "id": "2sxKgKxu4Ip3"
      },
      "execution_count": null,
      "outputs": []
    },
    {
      "cell_type": "markdown",
      "source": [
        "#### 5. Removing Stopwords & Removing White spaces"
      ],
      "metadata": {
        "id": "mT9DMSJo4nBL"
      }
    },
    {
      "cell_type": "code",
      "source": [
        "# Remove Stopwords"
      ],
      "metadata": {
        "id": "T2LSJh154s8W"
      },
      "execution_count": null,
      "outputs": []
    },
    {
      "cell_type": "code",
      "source": [
        "# Remove White spaces"
      ],
      "metadata": {
        "id": "EgLJGffy4vm0"
      },
      "execution_count": null,
      "outputs": []
    },
    {
      "cell_type": "markdown",
      "source": [
        "#### 6. Rephrase Text"
      ],
      "metadata": {
        "id": "c49ITxTc407N"
      }
    },
    {
      "cell_type": "code",
      "source": [
        "# Rephrase Text"
      ],
      "metadata": {
        "id": "foqY80Qu48N2"
      },
      "execution_count": null,
      "outputs": []
    },
    {
      "cell_type": "markdown",
      "source": [
        "#### 7. Tokenization"
      ],
      "metadata": {
        "id": "OeJFEK0N496M"
      }
    },
    {
      "cell_type": "code",
      "source": [
        "# Tokenization"
      ],
      "metadata": {
        "id": "ijx1rUOS5CUU"
      },
      "execution_count": null,
      "outputs": []
    },
    {
      "cell_type": "markdown",
      "source": [
        "#### 8. Text Normalization"
      ],
      "metadata": {
        "id": "9ExmJH0g5HBk"
      }
    },
    {
      "cell_type": "code",
      "source": [
        "# Normalizing Text (i.e., Stemming, Lemmatization etc.)"
      ],
      "metadata": {
        "id": "AIJ1a-Zc5PY8"
      },
      "execution_count": null,
      "outputs": []
    },
    {
      "cell_type": "markdown",
      "source": [
        "##### Which text normalization technique have you used and why?"
      ],
      "metadata": {
        "id": "cJNqERVU536h"
      }
    },
    {
      "cell_type": "markdown",
      "source": [
        "Answer Here."
      ],
      "metadata": {
        "id": "Z9jKVxE06BC1"
      }
    },
    {
      "cell_type": "markdown",
      "source": [
        "#### 9. Part of speech tagging"
      ],
      "metadata": {
        "id": "k5UmGsbsOxih"
      }
    },
    {
      "cell_type": "code",
      "source": [
        "# POS Taging"
      ],
      "metadata": {
        "id": "btT3ZJBAO6Ik"
      },
      "execution_count": null,
      "outputs": []
    },
    {
      "cell_type": "markdown",
      "source": [
        "#### 10. Text Vectorization"
      ],
      "metadata": {
        "id": "T0VqWOYE6DLQ"
      }
    },
    {
      "cell_type": "code",
      "source": [
        "# Vectorizing Text"
      ],
      "metadata": {
        "id": "yBRtdhth6JDE"
      },
      "execution_count": null,
      "outputs": []
    },
    {
      "cell_type": "markdown",
      "source": [
        "##### Which text vectorization technique have you used and why?"
      ],
      "metadata": {
        "id": "qBMux9mC6MCf"
      }
    },
    {
      "cell_type": "markdown",
      "source": [
        "Answer Here."
      ],
      "metadata": {
        "id": "su2EnbCh6UKQ"
      }
    },
    {
      "cell_type": "markdown",
      "source": [
        "### 4. Feature Manipulation & Selection"
      ],
      "metadata": {
        "id": "-oLEiFgy-5Pf"
      }
    },
    {
      "cell_type": "markdown",
      "source": [
        "#### 1. Feature Manipulation"
      ],
      "metadata": {
        "id": "C74aWNz2AliB"
      }
    },
    {
      "cell_type": "code",
      "source": [
        "import pandas as pd\n",
        "\n",
        "df['AgeGroup'] = pd.cut(df['Age'], bins=[0, 30, 60, float('inf')], labels=['Young', 'Middle-aged', 'Elderly'])\n",
        "\n",
        "# Calculate insulin sensitivity index\n",
        "\n",
        "df['InsulinSensitivity'] = 1 / (df['Insulin'] * df['Glucose'])"
      ],
      "metadata": {
        "id": "h1qC4yhBApWC"
      },
      "execution_count": null,
      "outputs": []
    },
    {
      "cell_type": "markdown",
      "source": [
        "#### 2. Feature Selection"
      ],
      "metadata": {
        "id": "2DejudWSA-a0"
      }
    },
    {
      "cell_type": "code",
      "source": [
        "from sklearn.feature_selection import VarianceThreshold\n",
        "\n",
        "\n",
        "# Assuming df_main contains the dataset with the features\n",
        "X = df  # Features\n",
        "\n",
        "# Remove non-numeric columns\n",
        "X_numeric = X.select_dtypes(include=[np.number])\n",
        "\n",
        "# Set a threshold for variance\n",
        "threshold = 0.1\n",
        "\n",
        "# Create VarianceThreshold object\n",
        "selector = VarianceThreshold(threshold)\n",
        "\n",
        "# Fit the selector to the data\n",
        "selector.fit(X_numeric)\n",
        "\n",
        "# Get the indices of the selected features\n",
        "selected_indices = selector.get_support(indices=True)\n",
        "\n",
        "# Get the names of the selected features\n",
        "selected_features = X_numeric.columns[selected_indices]\n",
        "\n",
        "# Create a new DataFrame with only the selected features\n",
        "df_selected = df[selected_features]"
      ],
      "metadata": {
        "id": "YLhe8UmaBCEE"
      },
      "execution_count": null,
      "outputs": []
    },
    {
      "cell_type": "markdown",
      "source": [
        "##### What all feature selection methods have you used  and why?"
      ],
      "metadata": {
        "id": "pEMng2IbBLp7"
      }
    },
    {
      "cell_type": "markdown",
      "source": [
        "we have used two feature selection methods:\n",
        "\n",
        "SelectKBest with chi-square statistic: This method selects the top k features based on their statistical significance with the target variable. I chose this method because it's suitable for classification tasks and provides a straightforward way to select the most relevant features.\n",
        "\n",
        "VarianceThreshold: This method removes features with low variance, assuming that features with low variance are less informative and may not contribute much to the model's performance. I used this method to filter out features that don't vary much across the dataset, which could help simplify the model and reduce overfitting.Answer Here."
      ],
      "metadata": {
        "id": "rb2Lh6Z8BgGs"
      }
    },
    {
      "cell_type": "markdown",
      "source": [
        "Which all features you found important and why?"
      ],
      "metadata": {
        "id": "rAdphbQ9Bhjc"
      }
    },
    {
      "cell_type": "markdown",
      "source": [
        "features are considered important for diabetes prediction because they are well-established risk factors supported by medical research and clinical practice. They capture essential aspects of glucose metabolism, body composition, age-related changes, and genetic predisposition, which play key roles in diabetes development. By including these features in predictive models, we can effectively assess an individual's risk of developing diabetes and provide targeted interventions for prevention and management.Answer Here."
      ],
      "metadata": {
        "id": "fGgaEstsBnaf"
      }
    },
    {
      "cell_type": "markdown",
      "source": [
        "### 5. Data Transformation"
      ],
      "metadata": {
        "id": "TNVZ9zx19K6k"
      }
    },
    {
      "cell_type": "markdown",
      "source": [
        "#### Do you think that your data needs to be transformed? If yes, which transformation have you used. Explain Why?"
      ],
      "metadata": {
        "id": "nqoHp30x9hH9"
      }
    },
    {
      "cell_type": "code",
      "source": [
        "# Transform Your data"
      ],
      "metadata": {
        "id": "I6quWQ1T9rtH"
      },
      "execution_count": null,
      "outputs": []
    },
    {
      "cell_type": "markdown",
      "source": [
        "### 6. Data Scaling"
      ],
      "metadata": {
        "id": "rMDnDkt2B6du"
      }
    },
    {
      "cell_type": "code",
      "source": [
        "# Scaling your data\n",
        "from sklearn.preprocessing import MinMaxScaler\n",
        "\n",
        "# Assuming df_selected contains the dataset with the selected features\n",
        "X_selected = df_selected  # Features\n",
        "\n",
        "# Create a MinMaxScaler object\n",
        "scaler = MinMaxScaler()\n",
        "\n",
        "# Fit the scaler to the data and transform the data\n",
        "X_selected_normalized = scaler.fit_transform(X_selected)\n",
        "\n",
        "# Convert the normalized data back to a DataFrame (if needed)\n",
        "df_selected_normalized = pd.DataFrame(X_selected_normalized, columns=X_selected.columns)\n",
        "\n",
        "# Check the min and max values of the normalized data\n",
        "print(\"Min values after normalization:\")\n",
        "print(df_selected_normalized.min())\n",
        "print(\"\\nMax values after normalization:\")\n",
        "print(df_selected_normalized.max())"
      ],
      "metadata": {
        "id": "dL9LWpySC6x_"
      },
      "execution_count": null,
      "outputs": []
    },
    {
      "cell_type": "markdown",
      "source": [
        "##### Which method have you used to scale you data and why?"
      ],
      "metadata": {
        "id": "yiiVWRdJDDil"
      }
    },
    {
      "cell_type": "markdown",
      "source": [
        "### 7. Dimesionality Reduction"
      ],
      "metadata": {
        "id": "1UUpS68QDMuG"
      }
    },
    {
      "cell_type": "markdown",
      "source": [
        "##### Do you think that dimensionality reduction is needed? Explain Why?"
      ],
      "metadata": {
        "id": "kexQrXU-DjzY"
      }
    },
    {
      "cell_type": "markdown",
      "source": [
        "Answer Here."
      ],
      "metadata": {
        "id": "GGRlBsSGDtTQ"
      }
    },
    {
      "cell_type": "code",
      "source": [
        "# DImensionality Reduction (If needed)"
      ],
      "metadata": {
        "id": "kQfvxBBHDvCa"
      },
      "execution_count": null,
      "outputs": []
    },
    {
      "cell_type": "markdown",
      "source": [
        "##### Which dimensionality reduction technique have you used and why? (If dimensionality reduction done on dataset.)"
      ],
      "metadata": {
        "id": "T5CmagL3EC8N"
      }
    },
    {
      "cell_type": "markdown",
      "source": [
        "Answer Here."
      ],
      "metadata": {
        "id": "ZKr75IDuEM7t"
      }
    },
    {
      "cell_type": "markdown",
      "source": [
        "### 8. Data Splitting"
      ],
      "metadata": {
        "id": "BhH2vgX9EjGr"
      }
    },
    {
      "cell_type": "code",
      "source": [
        "from sklearn.model_selection import train_test_split\n",
        "\n",
        "# Assuming X contains the selected features and y contains the target variable\n",
        "# Replace 'selected_features' with the features you have identified as important\n",
        "X = df_selected[selected_features]\n",
        "y = df_selected['Outcome']  # Assuming 'Outcome' is the target variable for diabetes prediction\n",
        "\n",
        "# Split the data into training and testing sets\n",
        "# Adjust the test_size parameter to choose the splitting ratio wisely\n",
        "X_train, X_test, y_train, y_test = train_test_split(X, y, test_size=0.2, random_state=42)\n",
        "\n",
        "# Print the shape of the training and testing sets\n",
        "print(\"Training set shape:\", X_train.shape, y_train.shape)\n",
        "print(\"Testing set shape:\", X_test.shape, y_test.shape)"
      ],
      "metadata": {
        "id": "0CTyd2UwEyNM"
      },
      "execution_count": null,
      "outputs": []
    },
    {
      "cell_type": "markdown",
      "source": [
        "##### What data splitting ratio have you used and why?"
      ],
      "metadata": {
        "id": "qjKvONjwE8ra"
      }
    },
    {
      "cell_type": "markdown",
      "source": [
        "\n",
        "we have used a data splitting ratio of 80% for training and 20% for testing, specified by setting test_size=0.2 in the train_test_split function."
      ],
      "metadata": {
        "id": "Y2lJ8cobFDb_"
      }
    },
    {
      "cell_type": "markdown",
      "source": [
        "### 9. Handling Imbalanced Dataset"
      ],
      "metadata": {
        "id": "P1XJ9OREExlT"
      }
    },
    {
      "cell_type": "markdown",
      "source": [
        "##### Do you think the dataset is imbalanced? Explain Why."
      ],
      "metadata": {
        "id": "VFOzZv6IFROw"
      }
    },
    {
      "cell_type": "markdown",
      "source": [
        "Answer Here."
      ],
      "metadata": {
        "id": "GeKDIv7pFgcC"
      }
    },
    {
      "cell_type": "code",
      "source": [
        "# Handling Imbalanced Dataset (If needed)\n",
        "from sklearn.ensemble import RandomForestClassifier\n",
        "from sklearn.metrics import classification_report\n",
        "\n",
        "# Create a Random Forest classifier with class_weight='balanced'\n",
        "clf = RandomForestClassifier(class_weight='balanced', random_state=0)"
      ],
      "metadata": {
        "id": "nQsRhhZLFiDs"
      },
      "execution_count": null,
      "outputs": []
    },
    {
      "cell_type": "markdown",
      "source": [
        "What technique did you use to handle the imbalance dataset and why? (If needed to be balanced)*"
      ],
      "metadata": {
        "id": "TIqpNgepFxVj"
      }
    },
    {
      "cell_type": "markdown",
      "source": [
        "The technique used to handle the imbalanced dataset is setting the class_weight='balanced' parameter in the RandomForestClassifier.\n",
        "\n",
        "When dealing with imbalanced datasets, using class weights is a common technique to address the issue. By setting class_weight='balanced', the algorithm adjusts the weights of the classes during training, giving higher weight to the minority class and lower weight to the majority class. This helps the model to pay more attention to the minority class instances during training, thereby improving its ability to correctly classify the minority class."
      ],
      "metadata": {
        "id": "qbet1HwdGDTz"
      }
    },
    {
      "cell_type": "markdown",
      "source": [
        "## ***7. ML Model Implementation***"
      ],
      "metadata": {
        "id": "VfCC591jGiD4"
      }
    },
    {
      "cell_type": "markdown",
      "source": [
        "### ML Model - 1"
      ],
      "metadata": {
        "id": "OB4l2ZhMeS1U"
      }
    },
    {
      "cell_type": "code",
      "source": [
        "# Import necessary libraries\n",
        "import pandas as pd\n",
        "from sklearn.model_selection import train_test_split\n",
        "from sklearn.preprocessing import StandardScaler\n",
        "from sklearn.svm import SVC\n",
        "from sklearn.metrics import accuracy_score, classification_report\n",
        "\n",
        "# Split data into features (X) and target variable (y)\n",
        "X = df.drop(\"Outcome\", axis=1)\n",
        "y = df[\"Outcome\"]\n",
        "\n",
        "# Split data into training and testing sets\n",
        "X_train, X_test, y_train, y_test = train_test_split(X, y, test_size=0.2, random_state=42)\n",
        "\n",
        "# Standardize features by removing the mean and scaling to unit variance\n",
        "scaler = StandardScaler()\n",
        "X_train_scaled = scaler.fit_transform(X_train)\n",
        "X_test_scaled = scaler.transform(X_test)\n",
        "\n",
        "# Train the SVM model\n",
        "svm_model = SVC(kernel='linear')\n",
        "svm_model.fit(X_train_scaled, y_train)\n",
        "\n",
        "# Predict on the testing set\n",
        "y_pred = svm_model.predict(X_test_scaled)\n",
        "\n",
        "# Evaluate the model\n",
        "accuracy = accuracy_score(y_test, y_pred)\n",
        "print(\"Accuracy:\", accuracy)\n",
        "print(\"\\nClassification Report:\")\n",
        "print(classification_report(y_test, y_pred))\n"
      ],
      "metadata": {
        "id": "7ebyywQieS1U"
      },
      "execution_count": null,
      "outputs": []
    },
    {
      "cell_type": "markdown",
      "source": [
        "#### 1. Explain the ML Model used and it's performance using Evaluation metric Score Chart.\n",
        "The machine learning (ML) model used in the provided code is a Support Vector Machine (SVM) classifier.\n",
        "\n",
        "**Support Vector Machine (SVM)**:\n",
        "SVM is a supervised learning algorithm that is used for classification tasks. It's effective in high-dimensional spaces and is particularly well-suited for cases where the number of dimensions (features) is greater than the number of samples. SVM works by finding the hyperplane that best separates the different classes in the feature space. This hyperplane is chosen so as to maximize the margin, which is the distance between the hyperplane and the nearest data point from either class, known as support vectors.\n",
        "\n",
        "**Kernel Trick**:\n",
        "SVM can efficiently perform a non-linear classification using what's called the \"kernel trick.\" This technique implicitly maps the input data into a higher-dimensional space, where it becomes linearly separable. Common kernel functions include linear, polynomial, radial basis function (RBF), and sigmoid.\n",
        "\n",
        "In the provided code, a linear kernel is used (`kernel='linear'`). This means the SVM model will try to find a linear decision boundary in the feature space.\n",
        "\n",
        "**Training and Prediction**:\n",
        "The SVM model is trained using the training data, where it learns the optimal hyperplane to separate the different classes. After training, the model can make predictions on new, unseen data by determining which side of the hyperplane the data points fall on.\n",
        "\n",
        "**Model Evaluation**:\n",
        "The model's performance is evaluated using various metrics such as accuracy, precision, recall, and F1-score. These metrics provide insights into how well the model is performing in terms of correctly predicting the positive and negative classes, as well as overall performance.\n",
        "\n",
        "In summary, SVM is a powerful algorithm for classification tasks, particularly when dealing with high-dimensional data. It's versatile and can be used with different kernel functions to handle both linear and non-linear classification problems."
      ],
      "metadata": {
        "id": "ArJBuiUVfxKd"
      }
    },
    {
      "cell_type": "code",
      "source": [
        "import matplotlib.pyplot as plt\n",
        "import numpy as np\n",
        "\n",
        "# Calculate classification report\n",
        "report = classification_report(y_test, y_pred, output_dict=True)\n",
        "accuracy = report['accuracy']\n",
        "precision = report['1']['precision']\n",
        "recall = report['1']['recall']\n",
        "f1_score = report['1']['f1-score']\n",
        "\n",
        "# Create metric score chart\n",
        "metrics = ['Accuracy', 'Precision', 'Recall', 'F1-Score']\n",
        "scores = [accuracy, precision, recall, f1_score]\n",
        "\n",
        "plt.figure(figsize=(10, 6))\n",
        "plt.bar(metrics, scores, color=['blue', 'green', 'orange', 'red'])\n",
        "plt.title('SVM Model Performance Metrics')\n",
        "plt.xlabel('Metrics')\n",
        "plt.ylabel('Score')\n",
        "plt.ylim(0, 1)  # Setting y-axis limit to range [0, 1]\n",
        "plt.show()\n"
      ],
      "metadata": {
        "id": "rqD5ZohzfxKe"
      },
      "execution_count": null,
      "outputs": []
    },
    {
      "cell_type": "markdown",
      "source": [
        "#### 2. Cross- Validation & Hyperparameter Tuning"
      ],
      "metadata": {
        "id": "4qY1EAkEfxKe"
      }
    },
    {
      "cell_type": "code",
      "source": [
        "# ML Model - 1 Implementation with hyperparameter optimization techniques (i.e., GridSearch CV, RandomSearch CV, Bayesian Optimization etc.)\n",
        "\n",
        "# Fit the Algorithm\n",
        "\n",
        "# Predict on the model"
      ],
      "metadata": {
        "id": "Dy61ujd6fxKe"
      },
      "execution_count": null,
      "outputs": []
    },
    {
      "cell_type": "markdown",
      "source": [
        "##### Which hyperparameter optimization technique have you used and why?"
      ],
      "metadata": {
        "id": "PiV4Ypx8fxKe"
      }
    },
    {
      "cell_type": "markdown",
      "source": [
        "Answer Here."
      ],
      "metadata": {
        "id": "negyGRa7fxKf"
      }
    },
    {
      "cell_type": "markdown",
      "source": [
        "##### Have you seen any improvement? Note down the improvement with updates Evaluation metric Score Chart."
      ],
      "metadata": {
        "id": "TfvqoZmBfxKf"
      }
    },
    {
      "cell_type": "markdown",
      "source": [
        "Answer Here."
      ],
      "metadata": {
        "id": "OaLui8CcfxKf"
      }
    },
    {
      "cell_type": "markdown",
      "source": [
        "### ML Model - 2"
      ],
      "metadata": {
        "id": "dJ2tPlVmpsJ0"
      }
    },
    {
      "cell_type": "code",
      "source": [
        "import pandas as pd\n",
        "from sklearn.model_selection import train_test_split\n",
        "from sklearn.tree import DecisionTreeClassifier\n",
        "from sklearn.metrics import accuracy_score, classification_report\n",
        "\n",
        "# Load the dataset\n",
        "#data = pd.read_csv('your_dataset.csv')  # Replace 'your_dataset.csv' with the path to your dataset file\n",
        "\n",
        "# Preprocessing (handle missing values, encode categorical variables, etc.)\n",
        "# For example, you might fill missing values with the mean or median of each column:\n",
        "df.fillna(df.mean(), inplace=True)\n",
        "\n",
        "# Split the dataset into features (X) and target variable (y)\n",
        "X = df[['Pregnancies', 'Glucose', 'BloodPressure', 'SkinThickness', 'Insulin', 'BMI', 'DiabetesPedigreeFunction', 'Age']]\n",
        "y = df['Outcome']\n",
        "\n",
        "# Split the data into training and testing sets\n",
        "X_train, X_test, y_train, y_test = train_test_split(X, y, test_size=0.2, random_state=42)\n",
        "\n",
        "# Train the Decision Tree model\n",
        "model = DecisionTreeClassifier(random_state=42)\n",
        "model.fit(X_train, y_train)\n",
        "\n",
        "# Predict on the testing set\n",
        "y_pred = model.predict(X_test)\n",
        "\n",
        "# Evaluate the model\n",
        "accuracy = accuracy_score(y_test, y_pred)\n",
        "print('Accuracy:', accuracy)\n",
        "print(classification_report(y_test, y_pred))\n"
      ],
      "metadata": {
        "id": "fN8lmOifw6Gn"
      },
      "execution_count": null,
      "outputs": []
    },
    {
      "cell_type": "markdown",
      "source": [
        "#### 1. Explain the ML Model used and it's performance using Evaluation metric Score Chart."
      ],
      "metadata": {
        "id": "JWYfwnehpsJ1"
      }
    },
    {
      "cell_type": "markdown",
      "source": [
        "The machine learning model used in the provided code snippet is a Decision Tree Classifier.\n",
        "\n",
        "**Decision Tree Classifier:**\n",
        "Decision trees are a popular type of supervised learning algorithm used for classification tasks. They work by recursively partitioning the feature space into regions that minimize impurity or maximize information gain. Each internal node of the tree represents a decision based on the value of a specific feature, and each leaf node represents the predicted class label.\n",
        "\n",
        "Here's how the Decision Tree Classifier works:\n",
        "\n",
        "1. **Training**: The algorithm recursively splits the feature space into regions based on the feature values that best separate the data points according to their class labels. This splitting process continues until certain stopping criteria are met, such as reaching a maximum depth, minimum number of samples in a node, or no further improvement in impurity reduction.\n",
        "\n",
        "2. **Prediction**: When making predictions for new data points, the algorithm traverses the decision tree from the root node down to a leaf node based on the feature values of the data point. The class label associated with the leaf node reached by the data point determines its predicted class label.\n",
        "\n",
        "**Key Parameters:**\n",
        "- `criterion`: The function used to measure the quality of a split. Common options include 'gini' for the Gini impurity and 'entropy' for information gain.\n",
        "- `max_depth`: The maximum depth of the decision tree. Limiting the depth helps prevent overfitting.\n",
        "- `min_samples_split`: The minimum number of samples required to split an internal node.\n",
        "- `min_samples_leaf`: The minimum number of samples required to be at a leaf node.\n",
        "- `random_state`: Seed for random number generation, ensuring reproducibility.\n",
        "\n"
      ],
      "metadata": {
        "id": "-5SvWCsw1Dzm"
      }
    },
    {
      "cell_type": "code",
      "source": [
        "import pandas as pd\n",
        "import matplotlib.pyplot as plt\n",
        "from sklearn.model_selection import train_test_split\n",
        "from sklearn.tree import DecisionTreeClassifier\n",
        "from sklearn.metrics import classification_report\n",
        "\n",
        "# Load the dataset and preprocess it\n",
        "# df = pd.read_csv('your_dataset.csv')  # Replace 'your_dataset.csv' with the path to your dataset file\n",
        "df.fillna(df.mean(), inplace=True)\n",
        "\n",
        "# Split the dataset into features (X) and target variable (y)\n",
        "X = df[['Pregnancies', 'Glucose', 'BloodPressure', 'SkinThickness', 'Insulin', 'BMI', 'DiabetesPedigreeFunction', 'Age']]\n",
        "y = df['Outcome']\n",
        "\n",
        "# Split the data into training and testing sets\n",
        "X_train, X_test, y_train, y_test = train_test_split(X, y, test_size=0.2, random_state=42)\n",
        "\n",
        "# Train the Decision Tree model\n",
        "model = DecisionTreeClassifier(random_state=42)\n",
        "model.fit(X_train, y_train)\n",
        "\n",
        "# Predict on the testing set\n",
        "y_pred = model.predict(X_test)\n",
        "\n",
        "# Generate classification report\n",
        "report = classification_report(y_test, y_pred, output_dict=True)\n",
        "df_report = pd.DataFrame(report).transpose()\n",
        "\n",
        "# Plot the evaluation metric score chart\n",
        "plt.figure(figsize=(10, 5))\n",
        "df_report[['precision', 'recall', 'f1-score']].plot(kind='bar', ax=plt.gca(), color=['skyblue', 'lightgreen', 'salmon'])\n",
        "plt.title('Evaluation Metric Score Chart')\n",
        "plt.xlabel('Class')\n",
        "plt.ylabel('Score')\n",
        "plt.xticks(rotation=0)\n",
        "plt.legend(loc='center left', bbox_to_anchor=(1.0, 0.5))\n",
        "plt.tight_layout()\n",
        "plt.show()\n",
        "\n"
      ],
      "metadata": {
        "id": "yEl-hgQWpsJ1"
      },
      "execution_count": null,
      "outputs": []
    },
    {
      "cell_type": "markdown",
      "source": [
        "#### 2. Cross- Validation & Hyperparameter Tuning"
      ],
      "metadata": {
        "id": "-jK_YjpMpsJ2"
      }
    },
    {
      "cell_type": "code",
      "source": [
        "# ML Model - 1 Implementation with hyperparameter optimization techniques (i.e., GridSearch CV, RandomSearch CV, Bayesian Optimization etc.)\n",
        "\n",
        "# Fit the Algorithm\n",
        "\n",
        "# Predict on the model"
      ],
      "metadata": {
        "id": "Dn0EOfS6psJ2"
      },
      "execution_count": null,
      "outputs": []
    },
    {
      "cell_type": "markdown",
      "source": [
        "##### Which hyperparameter optimization technique have you used and why?"
      ],
      "metadata": {
        "id": "HAih1iBOpsJ2"
      }
    },
    {
      "cell_type": "markdown",
      "source": [
        "Answer Here."
      ],
      "metadata": {
        "id": "9kBgjYcdpsJ2"
      }
    },
    {
      "cell_type": "markdown",
      "source": [
        "##### Have you seen any improvement? Note down the improvement with updates Evaluation metric Score Chart."
      ],
      "metadata": {
        "id": "zVGeBEFhpsJ2"
      }
    },
    {
      "cell_type": "markdown",
      "source": [
        "Answer Here."
      ],
      "metadata": {
        "id": "74yRdG6UpsJ3"
      }
    },
    {
      "cell_type": "markdown",
      "source": [
        "#### 3. Explain each evaluation metric's indication towards business and the business impact pf the ML model used."
      ],
      "metadata": {
        "id": "bmKjuQ-FpsJ3"
      }
    },
    {
      "cell_type": "markdown",
      "source": [
        "Answer Here."
      ],
      "metadata": {
        "id": "BDKtOrBQpsJ3"
      }
    },
    {
      "cell_type": "markdown",
      "source": [
        "### ML Model - 3"
      ],
      "metadata": {
        "id": "Fze-IPXLpx6K"
      }
    },
    {
      "cell_type": "code",
      "source": [
        "# ML Model - 3 Implementation\n",
        "\n",
        "# Fit the Algorithm\n",
        "\n",
        "# Predict on the model\n",
        "import pandas as pd\n",
        "from sklearn.model_selection import train_test_split\n",
        "from sklearn.preprocessing import StandardScaler\n",
        "from sklearn.linear_model import LogisticRegression\n",
        "from sklearn.metrics import accuracy_score, classification_report\n",
        "\n",
        "\n",
        "\n",
        "# Define features (X) and target variable (y)\n",
        "X = df.drop('Outcome', axis=1)  # Assuming 'Outcome' is your target variable\n",
        "y = df['Outcome']\n",
        "\n",
        "# Split the data into training and testing sets\n",
        "X_train, X_test, y_train, y_test = train_test_split(X, y, test_size=0.2, random_state=42)\n",
        "\n",
        "# Standardize features\n",
        "scaler = StandardScaler()\n",
        "X_train_scaled = scaler.fit_transform(X_train)\n",
        "X_test_scaled = scaler.transform(X_test)\n",
        "\n",
        "# Initialize and train the logistic regression model\n",
        "logistic_reg = LogisticRegression()\n",
        "logistic_reg.fit(X_train_scaled, y_train)\n",
        "\n",
        "# Make predictions on the test set\n",
        "y_pred = logistic_reg.predict(X_test_scaled)\n",
        "\n",
        "# Evaluate the model\n",
        "accuracy = accuracy_score(y_test, y_pred)\n",
        "print(\"Accuracy:\", accuracy)\n",
        "\n",
        "# Classification report\n",
        "print(classification_report(y_test, y_pred))\n",
        "\n"
      ],
      "metadata": {
        "id": "FFrSXAtrpx6M"
      },
      "execution_count": null,
      "outputs": []
    },
    {
      "cell_type": "markdown",
      "source": [
        "#### 1. Explain the ML Model used and it's performance using Evaluation metric Score Chart."
      ],
      "metadata": {
        "id": "7AN1z2sKpx6M"
      }
    },
    {
      "cell_type": "markdown",
      "source": [
        "The machine learning model used in the provided code snippet is Logistic Regression. Logistic Regression is a statistical method used for binary classification problems, where the target variable has two possible outcomes (e.g., yes or no, 0 or 1). It's widely used in various fields, including healthcare, finance, and marketing.\n",
        "\n",
        "### Explanation of Logistic Regression:\n",
        "- **Objective**: Logistic Regression aims to model the probability that a given input belongs to a certain class.\n",
        "- **Functionality**: It applies a logistic function (also known as the sigmoid function) to the linear combination of input features to produce the probability score.\n",
        "- **Decision Boundary**: Logistic Regression establishes a decision boundary that separates the classes in the feature space.\n",
        "- **Optimization**: The model is trained using optimization techniques such as gradient descent to minimize the loss function, typically the log-loss or cross-entropy loss.\n",
        "\n",
        "### Key Features:\n",
        "- **Standardization**: Before training the model, the features are standardized using StandardScaler to ensure that each feature has a mean of 0 and a standard deviation of 1. This helps in improving the performance of the model, especially when dealing with features of different scales.\n",
        "- **Evaluation Metrics**: The model's performance is evaluated using accuracy, which measures the proportion of correctly predicted outcomes among all predictions. Additionally, a classification report is generated, providing metrics such as precision, recall, and F1-score for each class, along with the overall metrics.\n",
        "\n"
      ],
      "metadata": {
        "id": "PC3JTzJQ2hQc"
      }
    },
    {
      "cell_type": "code",
      "source": [
        "# Visualizing evaluation Metric Score chart\n",
        "import seaborn as sns\n",
        "import matplotlib.pyplot as plt\n",
        "from sklearn.metrics import classification_report\n",
        "\n",
        "# Generate the classification report\n",
        "report = classification_report(y_test, y_pred, output_dict=True)\n",
        "report_df = pd.DataFrame(report).transpose()\n",
        "\n",
        "# Plot the heatmap\n",
        "plt.figure(figsize=(8, 6))\n",
        "sns.heatmap(report_df.iloc[:-1, :-1], annot=True, cmap='Blues', fmt=\".2f\", cbar=False)\n",
        "plt.title('Classification Report')\n",
        "plt.xlabel('Metrics')\n",
        "plt.ylabel('Class')\n",
        "plt.show()\n"
      ],
      "metadata": {
        "id": "xIY4lxxGpx6M"
      },
      "execution_count": null,
      "outputs": []
    },
    {
      "cell_type": "markdown",
      "source": [
        "#### 2. Cross- Validation & Hyperparameter Tuning"
      ],
      "metadata": {
        "id": "9PIHJqyupx6M"
      }
    },
    {
      "cell_type": "code",
      "source": [
        "# ML Model - 3 Implementation with hyperparameter optimization techniques (i.e., GridSearch CV, RandomSearch CV, Bayesian Optimization etc.)\n",
        "\n",
        "# Fit the Algorithm\n",
        "\n",
        "# Predict on the model"
      ],
      "metadata": {
        "id": "eSVXuaSKpx6M"
      },
      "execution_count": null,
      "outputs": []
    },
    {
      "cell_type": "markdown",
      "source": [
        "##### Which hyperparameter optimization technique have you used and why?"
      ],
      "metadata": {
        "id": "_-qAgymDpx6N"
      }
    },
    {
      "cell_type": "markdown",
      "source": [
        "Answer Here."
      ],
      "metadata": {
        "id": "lQMffxkwpx6N"
      }
    },
    {
      "cell_type": "markdown",
      "source": [
        "##### Have you seen any improvement? Note down the improvement with updates Evaluation metric Score Chart."
      ],
      "metadata": {
        "id": "Z-hykwinpx6N"
      }
    },
    {
      "cell_type": "markdown",
      "source": [
        "Answer Here."
      ],
      "metadata": {
        "id": "MzVzZC6opx6N"
      }
    },
    {
      "cell_type": "markdown",
      "source": [
        "### 1. Which Evaluation metrics did you consider for a positive business impact and why?"
      ],
      "metadata": {
        "id": "h_CCil-SKHpo"
      }
    },
    {
      "cell_type": "markdown",
      "source": [
        "Answer Here.For positive business impact, it's crucial to consider evaluation metrics that provide insights into the model's performance in a way that aligns with the business goals and priorities. In the provided codes, the evaluation metrics considered are:\n",
        "\n",
        "1. **Accuracy Score**: Accuracy measures the proportion of correctly predicted instances among the total instances. It's a widely used metric and provides a general overview of the model's performance.\n",
        "\n",
        "2. **Precision, Recall, and F1-score**: These metrics are particularly important in classification tasks, especially when dealing with imbalanced datasets or when different types of errors have different consequences. Precision measures the proportion of true positive predictions among all positive predictions, recall measures the proportion of true positives among all actual positives, and the F1-score is the harmonic mean of precision and recall. These metrics provide insights into the model's ability to correctly identify positive cases (e.g., cases of diabetes) while minimizing false positives and false negatives.\n",
        "\n",
        "These metrics are chosen because they provide a comprehensive understanding of the model's performance in terms of both overall accuracy and its ability to correctly classify positive cases, which is crucial in a healthcare context like diabetes prediction. By optimizing these metrics, businesses can ensure that the model effectively identifies individuals at risk of diabetes while minimizing misclassifications, leading to better health outcomes and resource allocation."
      ],
      "metadata": {
        "id": "jHVz9hHDKFms"
      }
    },
    {
      "cell_type": "markdown",
      "source": [
        "### 2. Which ML model did you choose from the above created models as your final prediction model and why?"
      ],
      "metadata": {
        "id": "cBFFvTBNJzUa"
      }
    },
    {
      "cell_type": "markdown",
      "source": [
        "Answer Here.From the provided models, the final prediction model chosen would depend on several factors such as the nature of the problem, the dataset characteristics, and the evaluation metrics.\n",
        "\n",
        "1. **Linear Regression**: Linear regression is suitable for predicting continuous outcomes. It's a simple and interpretable model that works well when there is a linear relationship between the features and the target variable. However, if the problem involves classification (e.g., predicting the presence or absence of diabetes), linear regression might not be the best choice.\n",
        "\n",
        "2. **Decision Tree**: Decision trees are versatile and intuitive models that can handle both classification and regression tasks. They can capture complex relationships in the data and are easy to interpret. Decision trees work well with categorical and numerical features, making them suitable for a variety of datasets. However, they are prone to overfitting, especially with deep trees, and might not generalize well to unseen data.\n",
        "\n",
        "3. **Logistic Regression**: Logistic regression is a widely used model for binary classification tasks like predicting the presence or absence of diabetes. It provides probabilities of class membership and can handle both numerical and categorical features. Logistic regression is robust to noise in the data and less prone to overfitting compared to decision trees. Additionally, it provides interpretable coefficients that can be useful for understanding the impact of features on the target variable.\n",
        "\n",
        "Considering the nature of the problem (diabetes prediction), the final prediction model chosen would likely be **Logistic Regression**. Logistic regression is well-suited for binary classification tasks, interpretable, and can provide probabilities of class membership, which can be useful for decision-making in healthcare settings. Additionally, it is less prone to overfitting compared to decision trees, making it a more robust choice for generalization to unseen data."
      ],
      "metadata": {
        "id": "6ksF5Q1LKTVm"
      }
    },
    {
      "cell_type": "markdown",
      "source": [
        "### 3. Explain the model which you have used and the feature importance using any model explainability tool?"
      ],
      "metadata": {
        "id": "HvGl1hHyA_VK"
      }
    },
    {
      "cell_type": "markdown",
      "source": [
        "Answer Here."
      ],
      "metadata": {
        "id": "YnvVTiIxBL-C"
      }
    },
    {
      "cell_type": "markdown",
      "source": [
        "## ***8.*** ***Future Work (Optional)***"
      ],
      "metadata": {
        "id": "EyNgTHvd2WFk"
      }
    },
    {
      "cell_type": "markdown",
      "source": [
        "### 1. Save the best performing ml model in a pickle file or joblib file format for deployment process.\n"
      ],
      "metadata": {
        "id": "KH5McJBi2d8v"
      }
    },
    {
      "cell_type": "code",
      "source": [
        "# Save the File"
      ],
      "metadata": {
        "id": "bQIANRl32f4J"
      },
      "execution_count": null,
      "outputs": []
    },
    {
      "cell_type": "markdown",
      "source": [
        "### 2. Again Load the saved model file and try to predict unseen data for a sanity check.\n"
      ],
      "metadata": {
        "id": "iW_Lq9qf2h6X"
      }
    },
    {
      "cell_type": "code",
      "source": [
        "# Load the File and predict unseen data."
      ],
      "metadata": {
        "id": "oEXk9ydD2nVC"
      },
      "execution_count": null,
      "outputs": []
    },
    {
      "cell_type": "markdown",
      "source": [
        "### ***Congrats! Your model is successfully created and ready for deployment on a live server for a real user interaction !!!***"
      ],
      "metadata": {
        "id": "-Kee-DAl2viO"
      }
    },
    {
      "cell_type": "markdown",
      "source": [
        "# **Conclusion**"
      ],
      "metadata": {
        "id": "gCX9965dhzqZ"
      }
    },
    {
      "cell_type": "markdown",
      "source": [
        "Write the conclusion here."
      ],
      "metadata": {
        "id": "Fjb1IsQkh3yE"
      }
    },
    {
      "cell_type": "markdown",
      "source": [
        "### ***Hurrah! You have successfully completed your Machine Learning Capstone Project !!!***"
      ],
      "metadata": {
        "id": "gIfDvo9L0UH2"
      }
    }
  ]
}